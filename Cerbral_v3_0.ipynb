{
  "nbformat": 4,
  "nbformat_minor": 0,
  "metadata": {
    "kernelspec": {
      "display_name": "Python 3",
      "language": "python",
      "name": "python3"
    },
    "language_info": {
      "codemirror_mode": {
        "name": "ipython",
        "version": 3
      },
      "file_extension": ".py",
      "mimetype": "text/x-python",
      "name": "python",
      "nbconvert_exporter": "python",
      "pygments_lexer": "ipython3",
      "version": "3.7.6"
    },
    "papermill": {
      "duration": 196.190714,
      "end_time": "2020-11-15T01:49:18.050963",
      "environment_variables": {},
      "exception": null,
      "input_path": "__notebook__.ipynb",
      "output_path": "__notebook__.ipynb",
      "parameters": {},
      "start_time": "2020-11-15T01:46:01.860249",
      "version": "2.1.0"
    },
    "colab": {
      "name": "Cerbral_v2.0.ipynb",
      "provenance": []
    },
    "accelerator": "GPU"
  },
  "cells": [
    {
      "cell_type": "code",
      "metadata": {
        "execution": {
          "iopub.execute_input": "2020-11-15T01:46:06.713806Z",
          "iopub.status.busy": "2020-11-15T01:46:06.713083Z",
          "iopub.status.idle": "2020-11-15T01:46:14.125812Z",
          "shell.execute_reply": "2020-11-15T01:46:14.124126Z"
        },
        "id": "TqOt6Sv7AsMi",
        "papermill": {
          "duration": 7.454175,
          "end_time": "2020-11-15T01:46:14.125954",
          "exception": false,
          "start_time": "2020-11-15T01:46:06.671779",
          "status": "completed"
        },
        "tags": []
      },
      "source": [
        "#loading required libraries\n",
        "import matplotlib.pyplot as plt\n",
        "import numpy as np\n",
        "import os\n",
        "import tensorflow as tf\n",
        "\n",
        "from tensorflow.keras.layers import *\n",
        "from tensorflow.keras.models import *\n",
        "\n",
        "from tensorflow.keras.preprocessing import image_dataset_from_directory\n",
        "import matplotlib.pyplot as plt\n",
        "from scipy.io import loadmat\n",
        "\n",
        "import seaborn as sns\n",
        "from sklearn.metrics import confusion_matrix\n",
        "from sklearn.preprocessing import normalize"
      ],
      "execution_count": 1,
      "outputs": []
    },
    {
      "cell_type": "markdown",
      "metadata": {
        "id": "wuq-Sb8ES6GT",
        "papermill": {
          "duration": 0.028007,
          "end_time": "2020-11-15T01:46:14.182663",
          "exception": false,
          "start_time": "2020-11-15T01:46:14.154656",
          "status": "completed"
        },
        "tags": []
      },
      "source": [
        "#Loading Data"
      ]
    },
    {
      "cell_type": "code",
      "metadata": {
        "execution": {
          "iopub.execute_input": "2020-11-15T01:46:14.253116Z",
          "iopub.status.busy": "2020-11-15T01:46:14.252391Z",
          "iopub.status.idle": "2020-11-15T01:46:14.496336Z",
          "shell.execute_reply": "2020-11-15T01:46:14.495205Z"
        },
        "id": "viEmoMxTIdeG",
        "papermill": {
          "duration": 0.285565,
          "end_time": "2020-11-15T01:46:14.496476",
          "exception": false,
          "start_time": "2020-11-15T01:46:14.210911",
          "status": "completed"
        },
        "tags": [],
        "outputId": "06865848-56da-4172-f728-63ef42727f06",
        "colab": {
          "base_uri": "https://localhost:8080/"
        }
      },
      "source": [
        "# Upload data on Drive copy it's path and paste below after mounting the Drive\n",
        "#loading cerebral dataset\n",
        "x=loadmat('../Dataset_41_13031.mat')\n",
        "#x=loadmat('Dataset_41_13031.mat')\n",
        "BATCH_SIZE = 32\n",
        "IMG_SIZE = (41, 41)#dimension of input image\n",
        "print(x['Input'].shape)\n",
        "x_train=x['Input']\n",
        "a = np.squeeze(x_train)\n",
        "n_x = np.swapaxes(a,2,0)\n",
        "a = np.arange(n_x.shape[0])\n",
        "np.random.shuffle(a)\n",
        "n_y=np.squeeze(x['Target'])\n",
        "\n",
        "x_train = []\n",
        "y_train = []\n",
        "for i in a:\n",
        "    x_train.append(n_x[i])\n",
        "    y_train.append(n_y[i])\n",
        "\n",
        "images = np.array(x_train).reshape([-1, 41,41,1])\n",
        "x_train = np.concatenate((images,images,images), axis = -1)\n",
        "print(x_train.shape)\n",
        "#splitting data into train, validation and test sets\n",
        "x_train, x_val,x_test = np.array(x_train[:9000]), np.array(x_train[9000:10500]), np.array(x_train[10500:])\n",
        "y_train, y_val,y_test = np.array(y_train[:9000]), np.array(y_train[9000:10500]), np.array(y_train[10500:])\n",
        "\n",
        "\n",
        "print(x_train.shape)\n",
        "print(y_train.shape)"
      ],
      "execution_count": 5,
      "outputs": [
        {
          "output_type": "stream",
          "name": "stdout",
          "text": [
            "(41, 41, 1, 13031)\n",
            "(13031, 41, 41, 3)\n",
            "(9000, 41, 41, 3)\n",
            "(9000,)\n"
          ]
        }
      ]
    },
    {
      "cell_type": "markdown",
      "metadata": {
        "id": "hutg3H35TAjJ",
        "papermill": {
          "duration": 0.029407,
          "end_time": "2020-11-15T01:46:14.558007",
          "exception": false,
          "start_time": "2020-11-15T01:46:14.528600",
          "status": "completed"
        },
        "tags": []
      },
      "source": [
        "##Visualizing Data\n"
      ]
    },
    {
      "cell_type": "code",
      "metadata": {
        "execution": {
          "iopub.execute_input": "2020-11-15T01:46:14.629175Z",
          "iopub.status.busy": "2020-11-15T01:46:14.628414Z",
          "iopub.status.idle": "2020-11-15T01:46:15.080355Z",
          "shell.execute_reply": "2020-11-15T01:46:15.079756Z"
        },
        "id": "mNEafHhRIdeO",
        "papermill": {
          "duration": 0.491898,
          "end_time": "2020-11-15T01:46:15.080498",
          "exception": false,
          "start_time": "2020-11-15T01:46:14.588600",
          "status": "completed"
        },
        "tags": [],
        "outputId": "382c549a-bff8-4b47-93c6-a17a47c0658e",
        "colab": {
          "base_uri": "https://localhost:8080/",
          "height": 846
        }
      },
      "source": [
        "#visualizing some sample images from training set\n",
        "print(\"Plotting some random images\")\n",
        "\n",
        "import matplotlib.pyplot as plt\n",
        "n = np.random.randint(low = 0, high = 9000,size = [9])\n",
        "a = np.squeeze(x_train)\n",
        "\n",
        "plt.figure(figsize=(10, 10))\n",
        "for i in range(9):\n",
        "    ax = plt.subplot(3, 3, i + 1)\n",
        "    plt.imshow(a[n[i]].astype(\"uint8\"))\n",
        "    plt.title(y_train[i])\n",
        "    plt.axis(\"off\")"
      ],
      "execution_count": 6,
      "outputs": [
        {
          "output_type": "stream",
          "name": "stdout",
          "text": [
            "Plotting some random images\n"
          ]
        },
        {
          "output_type": "display_data",
          "data": {
            "text/plain": [
              "<Figure size 1000x1000 with 9 Axes>"
            ],
            "image/png": "[encoded data removed]"
          },
          "metadata": {}
        }
      ]
    },
    {
      "cell_type": "markdown",
      "metadata": {
        "id": "cvlMaCOaS-_p",
        "papermill": {
          "duration": 0.028992,
          "end_time": "2020-11-15T01:46:15.140083",
          "exception": false,
          "start_time": "2020-11-15T01:46:15.111091",
          "status": "completed"
        },
        "tags": []
      },
      "source": [
        "#Data Augmentation"
      ]
    },
    {
      "cell_type": "code",
      "metadata": {
        "execution": {
          "iopub.execute_input": "2020-11-15T01:46:15.206881Z",
          "iopub.status.busy": "2020-11-15T01:46:15.205976Z",
          "iopub.status.idle": "2020-11-15T01:46:18.228265Z",
          "shell.execute_reply": "2020-11-15T01:46:18.227131Z"
        },
        "id": "3P99QiMGit1A",
        "papermill": {
          "duration": 3.05873,
          "end_time": "2020-11-15T01:46:18.228390",
          "exception": false,
          "start_time": "2020-11-15T01:46:15.169660",
          "status": "completed"
        },
        "tags": []
      },
      "source": [
        "#performing data augmentation using random horizontal flip and random rotation\n",
        "data_augmentation = tf.keras.Sequential([\n",
        "  tf.keras.layers.experimental.preprocessing.RandomFlip('horizontal'),\n",
        "  tf.keras.layers.experimental.preprocessing.RandomRotation(0.2),\n",
        "])"
      ],
      "execution_count": 7,
      "outputs": []
    },
    {
      "cell_type": "code",
      "metadata": {
        "execution": {
          "iopub.execute_input": "2020-11-15T01:46:18.303857Z",
          "iopub.status.busy": "2020-11-15T01:46:18.302486Z",
          "iopub.status.idle": "2020-11-15T01:46:18.940423Z",
          "shell.execute_reply": "2020-11-15T01:46:18.938791Z"
        },
        "id": "aQullOUHkm67",
        "papermill": {
          "duration": 0.682166,
          "end_time": "2020-11-15T01:46:18.940583",
          "exception": false,
          "start_time": "2020-11-15T01:46:18.258417",
          "status": "completed"
        },
        "tags": [],
        "outputId": "a7831bad-7cac-4176-cda5-9ebe92eefc2b",
        "colab": {
          "base_uri": "https://localhost:8080/",
          "height": 807
        }
      },
      "source": [
        "#visualizing images after performing different augmentations on train image\n",
        "\n",
        "for image in x_train:\n",
        "    plt.figure(figsize=(10, 10))\n",
        "    for i in range(9):\n",
        "        ax = plt.subplot(3, 3, i + 1)\n",
        "        augmented_image = data_augmentation(tf.expand_dims(image, 0))\n",
        "        plt.imshow(augmented_image[0] / 255)\n",
        "        plt.axis('off')\n",
        "    break"
      ],
      "execution_count": 8,
      "outputs": [
        {
          "output_type": "display_data",
          "data": {
            "text/plain": [
              "<Figure size 1000x1000 with 9 Axes>"
            ],
            "image/png": "[encoded data removed]"
          },
          "metadata": {}
        }
      ]
    },
    {
      "cell_type": "code",
      "metadata": {
        "id": "5L5ZdWVqlp-f"
      },
      "source": [
        "augmented_images = data_augmentation(x_train)"
      ],
      "execution_count": 9,
      "outputs": []
    },
    {
      "cell_type": "code",
      "metadata": {
        "id": "wRtDBs7FkNor",
        "outputId": "609e08e8-5c0f-4f03-be5f-63b4b93825d0",
        "colab": {
          "base_uri": "https://localhost:8080/"
        }
      },
      "source": [
        "x_train.shape, augmented_images.numpy().shape"
      ],
      "execution_count": 10,
      "outputs": [
        {
          "output_type": "execute_result",
          "data": {
            "text/plain": [
              "((9000, 41, 41, 3), (9000, 41, 41, 3))"
            ]
          },
          "metadata": {},
          "execution_count": 10
        }
      ]
    },
    {
      "cell_type": "code",
      "metadata": {
        "id": "PPE4hjbqni95"
      },
      "source": [
        "new_lable = np.concatenate((y_train,y_train))"
      ],
      "execution_count": 11,
      "outputs": []
    },
    {
      "cell_type": "code",
      "metadata": {
        "id": "aVgTDYLhmFP3"
      },
      "source": [
        "new_data = np.concatenate((x_train,augmented_images))"
      ],
      "execution_count": 12,
      "outputs": []
    },
    {
      "cell_type": "code",
      "metadata": {
        "id": "CjrWs0Dvmrg9",
        "outputId": "58c40186-728f-4977-ec80-a3ce4b0dc3ac",
        "colab": {
          "base_uri": "https://localhost:8080/"
        }
      },
      "source": [
        "y_train.shape"
      ],
      "execution_count": 13,
      "outputs": [
        {
          "output_type": "execute_result",
          "data": {
            "text/plain": [
              "(9000,)"
            ]
          },
          "metadata": {},
          "execution_count": 13
        }
      ]
    },
    {
      "cell_type": "code",
      "metadata": {
        "execution": {
          "iopub.execute_input": "2020-11-15T01:46:19.013817Z",
          "iopub.status.busy": "2020-11-15T01:46:19.011810Z",
          "iopub.status.idle": "2020-11-15T01:46:19.014529Z",
          "shell.execute_reply": "2020-11-15T01:46:19.014993Z"
        },
        "id": "cO0HM9JAQUFq",
        "papermill": {
          "duration": 0.039044,
          "end_time": "2020-11-15T01:46:19.015106",
          "exception": false,
          "start_time": "2020-11-15T01:46:18.976062",
          "status": "completed"
        },
        "tags": []
      },
      "source": [
        "#Preprocesses a tensor or Numpy array encoding a batch of images\n",
        "preprocess_input = tf.keras.applications.mobilenet_v2.preprocess_input"
      ],
      "execution_count": 14,
      "outputs": []
    },
    {
      "cell_type": "code",
      "metadata": {
        "execution": {
          "iopub.execute_input": "2020-11-15T01:46:19.083015Z",
          "iopub.status.busy": "2020-11-15T01:46:19.082143Z",
          "iopub.status.idle": "2020-11-15T01:46:19.086633Z",
          "shell.execute_reply": "2020-11-15T01:46:19.085956Z"
        },
        "id": "R2NyJn4KQMux",
        "papermill": {
          "duration": 0.040718,
          "end_time": "2020-11-15T01:46:19.086748",
          "exception": false,
          "start_time": "2020-11-15T01:46:19.046030",
          "status": "completed"
        },
        "tags": []
      },
      "source": [
        "#Multiply inputs by scale and adds offset\n",
        "rescale = tf.keras.layers.experimental.preprocessing.Rescaling(scale = 1./127.5, offset= -1)"
      ],
      "execution_count": 15,
      "outputs": []
    },
    {
      "cell_type": "markdown",
      "metadata": {
        "id": "oOrBJB0OU2dr"
      },
      "source": [
        "#Utility Fuctions\n"
      ]
    },
    {
      "cell_type": "markdown",
      "metadata": {
        "id": "1QW_ztMRU76q"
      },
      "source": [
        "##Consfusion Matrix\n",
        "\n",
        "\n"
      ]
    },
    {
      "cell_type": "code",
      "metadata": {
        "execution": {
          "iopub.execute_input": "2020-11-15T01:46:19.158482Z",
          "iopub.status.busy": "2020-11-15T01:46:19.156111Z",
          "iopub.status.idle": "2020-11-15T01:46:19.162136Z",
          "shell.execute_reply": "2020-11-15T01:46:19.162643Z"
        },
        "id": "1WPQ6OM0R_75",
        "papermill": {
          "duration": 0.046131,
          "end_time": "2020-11-15T01:46:19.162773",
          "exception": false,
          "start_time": "2020-11-15T01:46:19.116642",
          "status": "completed"
        },
        "tags": []
      },
      "source": [
        "#function to calculate confusion matrix\n",
        "#model : trained deep learning model\n",
        "#x : Input test data\n",
        "#y : Ground truth labels of input test data\n",
        "def plot_confusion_matrix(model,x,y):\n",
        "  y_test = []\n",
        "  y_preds = []\n",
        "  y_pred = model.predict(x)\n",
        "  for i in range(len(y)):\n",
        "    y_test.append(y[i])\n",
        "    if y_pred[i]<=0:\n",
        "      y_preds.append(0)\n",
        "    else :\n",
        "      y_preds.append(1)\n",
        "  cm = confusion_matrix(y_true = y_test, y_pred = y_preds)\n",
        "  print(cm)\n",
        "  cm_normalize = normalize(cm, axis=1)\n",
        "\n",
        "  plt.figure(figsize=(5,5));\n",
        "  sns.heatmap(cm_normalize, annot=False, xticklabels=['0','1'], yticklabels=['0','1'], linewidths=.1);\n",
        "\n",
        "  plt.savefig('confusion_matrix.png', bbox_inches='tight')"
      ],
      "execution_count": 16,
      "outputs": []
    },
    {
      "cell_type": "markdown",
      "metadata": {
        "id": "pCPV-ywEVIb6"
      },
      "source": [
        "##Plotting Traing Graphs"
      ]
    },
    {
      "cell_type": "code",
      "metadata": {
        "id": "mOHANdN8VN61"
      },
      "source": [
        "def plot_curves(acc, val_acc, loss, val_loss):\n",
        "  #plotting accuracy metric for different epochs\n",
        "  plt.figure(figsize=(8, 8))\n",
        "  plt.subplot(2, 1, 1)\n",
        "  plt.plot(acc, label='Training Accuracy')\n",
        "  plt.plot(val_acc, label='Validation Accuracy')\n",
        "  plt.legend(loc='lower right')\n",
        "  plt.ylabel('Accuracy')\n",
        "  plt.ylim([min(plt.ylim()),1])\n",
        "  plt.title('Training and Validation Accuracy')\n",
        "  #plotting loss for different epochs\n",
        "  plt.subplot(2, 1, 2)\n",
        "  plt.plot(loss, label='Training Loss')\n",
        "  plt.plot(val_loss, label='Validation Loss')\n",
        "  plt.legend(loc='upper right')\n",
        "  plt.ylabel('Cross Entropy')\n",
        "  plt.ylim([0,1.0])\n",
        "  plt.title('Training and Validation Loss')\n",
        "  plt.xlabel('epoch')\n",
        "  plt.show()"
      ],
      "execution_count": 17,
      "outputs": []
    },
    {
      "cell_type": "markdown",
      "metadata": {
        "id": "bzQhb0omTynj",
        "papermill": {
          "duration": 0.035961,
          "end_time": "2020-11-15T01:46:19.232236",
          "exception": false,
          "start_time": "2020-11-15T01:46:19.196275",
          "status": "completed"
        },
        "tags": []
      },
      "source": [
        "#Model From Scratch"
      ]
    },
    {
      "cell_type": "code",
      "metadata": {
        "execution": {
          "iopub.execute_input": "2020-11-15T01:46:19.302082Z",
          "iopub.status.busy": "2020-11-15T01:46:19.301230Z",
          "iopub.status.idle": "2020-11-15T01:46:19.305803Z",
          "shell.execute_reply": "2020-11-15T01:46:19.305183Z"
        },
        "id": "81T-MvNUIdf9",
        "papermill": {
          "duration": 0.041856,
          "end_time": "2020-11-15T01:46:19.305902",
          "exception": false,
          "start_time": "2020-11-15T01:46:19.264046",
          "status": "completed"
        },
        "tags": []
      },
      "source": [
        "initial_epochs = 100\n",
        "#using early stopping so the model does not overfits on training\n",
        "early_stopping  = tf.keras.callbacks.EarlyStopping(\n",
        "    monitor='val_loss',patience = 3, verbose = 0, mode='auto', restore_best_weights=True\n",
        ")"
      ],
      "execution_count": 24,
      "outputs": []
    },
    {
      "cell_type": "code",
      "metadata": {
        "execution": {
          "iopub.execute_input": "2020-11-15T01:46:19.375728Z",
          "iopub.status.busy": "2020-11-15T01:46:19.374820Z",
          "iopub.status.idle": "2020-11-15T01:46:19.402454Z",
          "shell.execute_reply": "2020-11-15T01:46:19.401937Z"
        },
        "id": "lf35Lr2NKq_T",
        "papermill": {
          "duration": 0.061476,
          "end_time": "2020-11-15T01:46:19.402562",
          "exception": false,
          "start_time": "2020-11-15T01:46:19.341086",
          "status": "completed"
        },
        "tags": []
      },
      "source": [
        "def CNN_model():\n",
        "  #CNN Model consists of input layer, 5 convolutional blocks, 1 hidden layer and output layer\n",
        "  inputs = Input(shape=(41,41,3))\n",
        "  x = inputs#Input layer\n",
        "  # Uncomment the lines for augmenting data\n",
        "  # x = data_augmentation(inputs)\n",
        "  # x = preprocess_input(x)\n",
        "  #CONV1:first convolutional block\n",
        "  x = Conv2D(75,(3,3),strides=1,padding='same',activation='swish')(x)\n",
        "  x = Conv2D(150,(7,7),strides=1,padding='same',activation='swish')(x)\n",
        "  x = BatchNormalization()(x)\n",
        "  x = MaxPool2D((2,2), strides = 2 , padding = 'same')(x)\n",
        "  x = Dropout(0.5)(x)\n",
        "  #CONV2:second convolutional block\n",
        "  x = Conv2D(50,(3,3),strides=1,padding='same',activation='swish')(x)\n",
        "  x = Conv2D(100,(7,7),strides=1,padding='same',activation='swish')(x)\n",
        "  x = Conv2D(150,(3,3),strides=1,padding='same',activation='swish')(x)\n",
        "  x = BatchNormalization()(x)\n",
        "  x = MaxPool2D((2,2), strides = 2 , padding = 'same')(x)\n",
        "  #CONV3:third convolutional block\n",
        "  x = Conv2D(50,(3,3),strides=1,padding='same',activation='swish')(x)\n",
        "  x = Conv2D(100,(7,7),strides=1,padding='same',activation='swish')(x)\n",
        "  x = Conv2D(150,(3,3),strides=1,padding='same',activation='swish')(x)\n",
        "  x = BatchNormalization()(x)\n",
        "  x = MaxPool2D((2,2), strides = 2 , padding = 'same')(x)\n",
        "  #CONV4:fourth convolutional block\n",
        "  x = Conv2D(50,(3,3),strides=1,padding='same',activation='swish')(x)\n",
        "  x = Conv2D(100,(7,7),strides=1,padding='same',activation='swish')(x)\n",
        "  x = Conv2D(150,(3,3),strides=1,padding='same',activation='swish')(x)\n",
        "  x = BatchNormalization()(x)\n",
        "  x = MaxPool2D((2,2), strides = 2 , padding = 'same')(x)\n",
        "  #CONV5:fifth convolutional block\n",
        "  x = Conv2D(100,(7,7),strides=1,padding='same',activation='swish')(x)\n",
        "  x = Conv2D(50,(3,3),strides=1,padding='same',activation='swish')(x)\n",
        "  x = Conv2D(25,(3,3),strides=1,padding='same',activation='swish')(x)\n",
        "  x = BatchNormalization()(x)\n",
        "  x = MaxPool2D((1,1), strides = 2 , padding = 'same')(x)\n",
        "\n",
        "  x = Flatten()(x)#flattening the output generated by previous convolutional block CONV5\n",
        "\n",
        "  x = Dense(256, activation='swish')(x)#Fully connected layer, Changing from sigmoid to swish Step-7\n",
        "  x = BatchNormalization()(x)# Sigmoid Step-8\n",
        "  x = Dropout(0.2)(x)\n",
        "\n",
        "  outputs = Dense(1)(x) #Output layer, Remove sigmoid\n",
        "  print(outputs.shape)\n",
        "  model = Model(inputs=inputs, outputs=outputs)\n",
        "  model.summary()\n",
        "  return model"
      ],
      "execution_count": null,
      "outputs": []
    },
    {
      "cell_type": "markdown",
      "metadata": {
        "id": "6Cmqht2BUKOy",
        "papermill": {
          "duration": 0.03281,
          "end_time": "2020-11-15T01:46:19.466660",
          "exception": false,
          "start_time": "2020-11-15T01:46:19.433850",
          "status": "completed"
        },
        "tags": []
      },
      "source": [
        "##Training Model"
      ]
    },
    {
      "cell_type": "code",
      "metadata": {
        "execution": {
          "iopub.execute_input": "2020-11-15T01:46:19.544859Z",
          "iopub.status.busy": "2020-11-15T01:46:19.543986Z",
          "iopub.status.idle": "2020-11-15T01:47:59.859096Z",
          "shell.execute_reply": "2020-11-15T01:47:59.860855Z"
        },
        "id": "sSogsGbmN-xv",
        "papermill": {
          "duration": 100.361291,
          "end_time": "2020-11-15T01:47:59.861056",
          "exception": false,
          "start_time": "2020-11-15T01:46:19.499765",
          "status": "completed"
        },
        "tags": [],
        "outputId": "b4f48792-408d-4a16-a3a0-f9e3978004a5",
        "colab": {
          "base_uri": "https://localhost:8080/"
        }
      },
      "source": [
        "cnn = CNN_model()\n",
        "base_learning_rate = 0.0001\n",
        "#compiling CNN model with Adam as optimizer and Binary Crossentropy as final loss function\n",
        "cnn.compile(optimizer=tf.keras.optimizers.Adam(lr=base_learning_rate),\n",
        "              loss=tf.keras.losses.BinaryCrossentropy(from_logits=True),\n",
        "              metrics=['accuracy'])\n",
        "#training model using training and validation data\n",
        "# history = cnn.fit(x_train,y_train,\n",
        "#                     epochs=initial_epochs,\n",
        "#                     callbacks = [early_stopping],\n",
        "#                     validation_data=(x_val,y_val))\n",
        "history = cnn.fit(new_data,new_lable,\n",
        "                  shuffle = True,\n",
        "                    epochs=initial_epochs,\n",
        "                    callbacks = [early_stopping],\n",
        "                    validation_data=(x_val,y_val))"
      ],
      "execution_count": null,
      "outputs": [
        {
          "output_type": "stream",
          "text": [
            "(None, 1)\n",
            "Model: \"functional_1\"\n",
            "_________________________________________________________________\n",
            "Layer (type)                 Output Shape              Param #   \n",
            "=================================================================\n",
            "input_1 (InputLayer)         [(None, 41, 41, 3)]       0         \n",
            "_________________________________________________________________\n",
            "conv2d (Conv2D)              (None, 41, 41, 75)        2100      \n",
            "_________________________________________________________________\n",
            "conv2d_1 (Conv2D)            (None, 41, 41, 150)       551400    \n",
            "_________________________________________________________________\n",
            "batch_normalization (BatchNo (None, 41, 41, 150)       600       \n",
            "_________________________________________________________________\n",
            "max_pooling2d (MaxPooling2D) (None, 21, 21, 150)       0         \n",
            "_________________________________________________________________\n",
            "dropout (Dropout)            (None, 21, 21, 150)       0         \n",
            "_________________________________________________________________\n",
            "conv2d_2 (Conv2D)            (None, 21, 21, 50)        67550     \n",
            "_________________________________________________________________\n",
            "conv2d_3 (Conv2D)            (None, 21, 21, 100)       245100    \n",
            "_________________________________________________________________\n",
            "conv2d_4 (Conv2D)            (None, 21, 21, 150)       135150    \n",
            "_________________________________________________________________\n",
            "batch_normalization_1 (Batch (None, 21, 21, 150)       600       \n",
            "_________________________________________________________________\n",
            "max_pooling2d_1 (MaxPooling2 (None, 11, 11, 150)       0         \n",
            "_________________________________________________________________\n",
            "conv2d_5 (Conv2D)            (None, 11, 11, 50)        67550     \n",
            "_________________________________________________________________\n",
            "conv2d_6 (Conv2D)            (None, 11, 11, 100)       245100    \n",
            "_________________________________________________________________\n",
            "conv2d_7 (Conv2D)            (None, 11, 11, 150)       135150    \n",
            "_________________________________________________________________\n",
            "batch_normalization_2 (Batch (None, 11, 11, 150)       600       \n",
            "_________________________________________________________________\n",
            "max_pooling2d_2 (MaxPooling2 (None, 6, 6, 150)         0         \n",
            "_________________________________________________________________\n",
            "conv2d_8 (Conv2D)            (None, 6, 6, 50)          67550     \n",
            "_________________________________________________________________\n",
            "conv2d_9 (Conv2D)            (None, 6, 6, 100)         245100    \n",
            "_________________________________________________________________\n",
            "conv2d_10 (Conv2D)           (None, 6, 6, 150)         135150    \n",
            "_________________________________________________________________\n",
            "batch_normalization_3 (Batch (None, 6, 6, 150)         600       \n",
            "_________________________________________________________________\n",
            "max_pooling2d_3 (MaxPooling2 (None, 3, 3, 150)         0         \n",
            "_________________________________________________________________\n",
            "conv2d_11 (Conv2D)           (None, 3, 3, 100)         735100    \n",
            "_________________________________________________________________\n",
            "conv2d_12 (Conv2D)           (None, 3, 3, 50)          45050     \n",
            "_________________________________________________________________\n",
            "conv2d_13 (Conv2D)           (None, 3, 3, 25)          11275     \n",
            "_________________________________________________________________\n",
            "batch_normalization_4 (Batch (None, 3, 3, 25)          100       \n",
            "_________________________________________________________________\n",
            "max_pooling2d_4 (MaxPooling2 (None, 2, 2, 25)          0         \n",
            "_________________________________________________________________\n",
            "flatten (Flatten)            (None, 100)               0         \n",
            "_________________________________________________________________\n",
            "dense (Dense)                (None, 256)               25856     \n",
            "_________________________________________________________________\n",
            "batch_normalization_5 (Batch (None, 256)               1024      \n",
            "_________________________________________________________________\n",
            "dropout_1 (Dropout)          (None, 256)               0         \n",
            "_________________________________________________________________\n",
            "dense_1 (Dense)              (None, 1)                 257       \n",
            "=================================================================\n",
            "Total params: 2,717,962\n",
            "Trainable params: 2,716,200\n",
            "Non-trainable params: 1,762\n",
            "_________________________________________________________________\n",
            "Epoch 1/100\n",
            "563/563 [==============================] - 24s 43ms/step - loss: 0.0987 - accuracy: 0.9597 - val_loss: 0.0850 - val_accuracy: 0.9660\n",
            "Epoch 2/100\n",
            "563/563 [==============================] - 24s 42ms/step - loss: 0.0303 - accuracy: 0.9896 - val_loss: 0.0367 - val_accuracy: 0.9913\n",
            "Epoch 3/100\n",
            "563/563 [==============================] - 24s 43ms/step - loss: 0.0236 - accuracy: 0.9927 - val_loss: 0.0192 - val_accuracy: 0.9953\n",
            "Epoch 4/100\n",
            "563/563 [==============================] - 25s 44ms/step - loss: 0.0175 - accuracy: 0.9946 - val_loss: 0.0293 - val_accuracy: 0.9853\n",
            "Epoch 5/100\n",
            "563/563 [==============================] - 24s 43ms/step - loss: 0.0178 - accuracy: 0.9942 - val_loss: 0.0111 - val_accuracy: 0.9987\n",
            "Epoch 6/100\n",
            "563/563 [==============================] - 24s 43ms/step - loss: 0.0117 - accuracy: 0.9961 - val_loss: 0.0133 - val_accuracy: 0.9960\n",
            "Epoch 7/100\n",
            "563/563 [==============================] - 25s 44ms/step - loss: 0.0157 - accuracy: 0.9948 - val_loss: 0.0132 - val_accuracy: 0.9953\n",
            "Epoch 8/100\n",
            "563/563 [==============================] - 24s 43ms/step - loss: 0.0122 - accuracy: 0.9961 - val_loss: 0.0067 - val_accuracy: 0.9987\n",
            "Epoch 9/100\n",
            "563/563 [==============================] - 24s 43ms/step - loss: 0.0089 - accuracy: 0.9974 - val_loss: 0.0075 - val_accuracy: 0.9987\n",
            "Epoch 10/100\n",
            "563/563 [==============================] - 24s 43ms/step - loss: 0.0084 - accuracy: 0.9973 - val_loss: 0.0372 - val_accuracy: 0.9940\n",
            "Epoch 11/100\n",
            "563/563 [==============================] - 24s 43ms/step - loss: 0.0103 - accuracy: 0.9972 - val_loss: 0.0414 - val_accuracy: 0.9867\n"
          ],
          "name": "stdout"
        }
      ]
    },
    {
      "cell_type": "code",
      "metadata": {
        "execution": {
          "iopub.execute_input": "2020-11-15T01:48:01.123458Z",
          "iopub.status.busy": "2020-11-15T01:48:01.122440Z",
          "iopub.status.idle": "2020-11-15T01:48:01.889542Z",
          "shell.execute_reply": "2020-11-15T01:48:01.889003Z"
        },
        "id": "FbjcCTwcOMUC",
        "papermill": {
          "duration": 1.319027,
          "end_time": "2020-11-15T01:48:01.889665",
          "exception": false,
          "start_time": "2020-11-15T01:48:00.570638",
          "status": "completed"
        },
        "tags": [],
        "outputId": "e21f1659-8881-4264-f6f0-f9d8d541e0c1",
        "colab": {
          "base_uri": "https://localhost:8080/"
        }
      },
      "source": [
        "# Performance of cnn model in test data after training\n",
        "loss0, accuracy0 = cnn.evaluate(x_test,y_test)"
      ],
      "execution_count": null,
      "outputs": [
        {
          "output_type": "stream",
          "text": [
            "80/80 [==============================] - 1s 14ms/step - loss: 0.0093 - accuracy: 0.9972\n"
          ],
          "name": "stdout"
        }
      ]
    },
    {
      "cell_type": "code",
      "metadata": {
        "execution": {
          "iopub.execute_input": "2020-11-15T01:48:02.979630Z",
          "iopub.status.busy": "2020-11-15T01:48:02.978559Z",
          "iopub.status.idle": "2020-11-15T01:48:03.406121Z",
          "shell.execute_reply": "2020-11-15T01:48:03.410003Z"
        },
        "id": "nnmiJcxqOLIB",
        "papermill": {
          "duration": 0.983525,
          "end_time": "2020-11-15T01:48:03.412336",
          "exception": false,
          "start_time": "2020-11-15T01:48:02.428811",
          "status": "completed"
        },
        "tags": [],
        "outputId": "c65dafea-d20d-4a7f-9a2a-1e5b5a17bbc5",
        "colab": {
          "base_uri": "https://localhost:8080/",
          "height": 513
        }
      },
      "source": [
        "# Plotting learning curves\n",
        "acc = history.history['accuracy']\n",
        "val_acc = history.history['val_accuracy']\n",
        "\n",
        "loss = history.history['loss']\n",
        "val_loss = history.history['val_loss']\n",
        "best_epoch = len(acc)\n",
        "plot_curves(acc, val_acc, loss, val_loss)"
      ],
      "execution_count": null,
      "outputs": [
        {
          "output_type": "display_data",
          "data": {
            "image/png": "[encoded data removed]",
            "text/plain": [
              "<Figure size 576x576 with 2 Axes>"
            ]
          },
          "metadata": {
            "tags": [],
            "needs_background": "light"
          }
        }
      ]
    },
    {
      "cell_type": "markdown",
      "metadata": {
        "id": "meCRIDxpTPM4",
        "papermill": {
          "duration": 0.657006,
          "end_time": "2020-11-15T01:48:07.218885",
          "exception": false,
          "start_time": "2020-11-15T01:48:06.561879",
          "status": "completed"
        },
        "tags": []
      },
      "source": [
        "#Transfer Learning\n",
        "MobileNetV2\n"
      ]
    },
    {
      "cell_type": "code",
      "metadata": {
        "execution": {
          "iopub.execute_input": "2020-11-15T01:48:08.372104Z",
          "iopub.status.busy": "2020-11-15T01:48:08.368019Z",
          "iopub.status.idle": "2020-11-15T01:48:10.172926Z",
          "shell.execute_reply": "2020-11-15T01:48:10.171931Z"
        },
        "id": "19IQ2gqneqmS",
        "papermill": {
          "duration": 2.393034,
          "end_time": "2020-11-15T01:48:10.173044",
          "exception": false,
          "start_time": "2020-11-15T01:48:07.780010",
          "status": "completed"
        },
        "tags": [],
        "outputId": "799dd1fa-5506-474c-813d-d74c74763ace",
        "colab": {
          "base_uri": "https://localhost:8080/"
        }
      },
      "source": [
        "# Create the base model from the pre-trained model MobileNet V2\n",
        "IMG_SHAPE = IMG_SIZE + (3,)\n",
        "base_model = tf.keras.applications.MobileNetV2(input_shape=IMG_SHAPE,\n",
        "                                               include_top=False,\n",
        "                                               weights='imagenet')"
      ],
      "execution_count": null,
      "outputs": [
        {
          "output_type": "stream",
          "text": [
            "WARNING:tensorflow:`input_shape` is undefined or non-square, or `rows` is not in [96, 128, 160, 192, 224]. Weights for input shape (224, 224) will be loaded as the default.\n",
            "Downloading data from https://storage.googleapis.com/tensorflow/keras-applications/mobilenet_v2/mobilenet_v2_weights_tf_dim_ordering_tf_kernels_1.0_224_no_top.h5\n",
            "9412608/9406464 [==============================] - 0s 0us/step\n"
          ],
          "name": "stdout"
        }
      ]
    },
    {
      "cell_type": "code",
      "metadata": {
        "execution": {
          "iopub.execute_input": "2020-11-15T01:48:11.314240Z",
          "iopub.status.busy": "2020-11-15T01:48:11.313264Z",
          "iopub.status.idle": "2020-11-15T01:48:11.318251Z",
          "shell.execute_reply": "2020-11-15T01:48:11.319075Z"
        },
        "id": "OTCJH4bphOeo",
        "papermill": {
          "duration": 0.573584,
          "end_time": "2020-11-15T01:48:11.319289",
          "exception": false,
          "start_time": "2020-11-15T01:48:10.745705",
          "status": "completed"
        },
        "tags": [],
        "outputId": "e9d58c78-c08a-45a4-ad96-6e6fd7ed4dd4",
        "colab": {
          "base_uri": "https://localhost:8080/"
        }
      },
      "source": [
        "# Let's take a look to see how many layers are in the base model\n",
        "base_model.trainable = True\n",
        "print(\"Number of layers in the base model: \", len(base_model.layers))\n",
        "\n",
        "# Fine-tune from this layer onwards\n",
        "fine_tune_at = 100\n",
        "\n",
        "# Freeze all the layers before the `fine_tune_at` layer\n",
        "for layer in base_model.layers[:fine_tune_at]:\n",
        "    layer.trainable =  False"
      ],
      "execution_count": null,
      "outputs": [
        {
          "output_type": "stream",
          "text": [
            "Number of layers in the base model:  155\n"
          ],
          "name": "stdout"
        }
      ]
    },
    {
      "cell_type": "code",
      "metadata": {
        "execution": {
          "iopub.execute_input": "2020-11-15T01:48:12.738887Z",
          "iopub.status.busy": "2020-11-15T01:48:12.734698Z",
          "iopub.status.idle": "2020-11-15T01:48:12.800255Z",
          "shell.execute_reply": "2020-11-15T01:48:12.799378Z"
        },
        "id": "KpbzSmPkDa-N",
        "papermill": {
          "duration": 0.649921,
          "end_time": "2020-11-15T01:48:12.800444",
          "exception": false,
          "start_time": "2020-11-15T01:48:12.150523",
          "status": "completed"
        },
        "tags": [],
        "outputId": "80929c9b-b542-49db-b125-8f12388c89f0",
        "colab": {
          "base_uri": "https://localhost:8080/"
        }
      },
      "source": [
        "# Let's take a look at the base model architecture\n",
        "base_model.summary()"
      ],
      "execution_count": null,
      "outputs": [
        {
          "output_type": "stream",
          "text": [
            "Model: \"mobilenetv2_1.00_224\"\n",
            "__________________________________________________________________________________________________\n",
            "Layer (type)                    Output Shape         Param #     Connected to                     \n",
            "==================================================================================================\n",
            "input_2 (InputLayer)            [(None, 41, 41, 3)]  0                                            \n",
            "__________________________________________________________________________________________________\n",
            "Conv1_pad (ZeroPadding2D)       (None, 43, 43, 3)    0           input_2[0][0]                    \n",
            "__________________________________________________________________________________________________\n",
            "Conv1 (Conv2D)                  (None, 21, 21, 32)   864         Conv1_pad[0][0]                  \n",
            "__________________________________________________________________________________________________\n",
            "bn_Conv1 (BatchNormalization)   (None, 21, 21, 32)   128         Conv1[0][0]                      \n",
            "__________________________________________________________________________________________________\n",
            "Conv1_relu (ReLU)               (None, 21, 21, 32)   0           bn_Conv1[0][0]                   \n",
            "__________________________________________________________________________________________________\n",
            "expanded_conv_depthwise (Depthw (None, 21, 21, 32)   288         Conv1_relu[0][0]                 \n",
            "__________________________________________________________________________________________________\n",
            "expanded_conv_depthwise_BN (Bat (None, 21, 21, 32)   128         expanded_conv_depthwise[0][0]    \n",
            "__________________________________________________________________________________________________\n",
            "expanded_conv_depthwise_relu (R (None, 21, 21, 32)   0           expanded_conv_depthwise_BN[0][0] \n",
            "__________________________________________________________________________________________________\n",
            "expanded_conv_project (Conv2D)  (None, 21, 21, 16)   512         expanded_conv_depthwise_relu[0][0\n",
            "__________________________________________________________________________________________________\n",
            "expanded_conv_project_BN (Batch (None, 21, 21, 16)   64          expanded_conv_project[0][0]      \n",
            "__________________________________________________________________________________________________\n",
            "block_1_expand (Conv2D)         (None, 21, 21, 96)   1536        expanded_conv_project_BN[0][0]   \n",
            "__________________________________________________________________________________________________\n",
            "block_1_expand_BN (BatchNormali (None, 21, 21, 96)   384         block_1_expand[0][0]             \n",
            "__________________________________________________________________________________________________\n",
            "block_1_expand_relu (ReLU)      (None, 21, 21, 96)   0           block_1_expand_BN[0][0]          \n",
            "__________________________________________________________________________________________________\n",
            "block_1_pad (ZeroPadding2D)     (None, 23, 23, 96)   0           block_1_expand_relu[0][0]        \n",
            "__________________________________________________________________________________________________\n",
            "block_1_depthwise (DepthwiseCon (None, 11, 11, 96)   864         block_1_pad[0][0]                \n",
            "__________________________________________________________________________________________________\n",
            "block_1_depthwise_BN (BatchNorm (None, 11, 11, 96)   384         block_1_depthwise[0][0]          \n",
            "__________________________________________________________________________________________________\n",
            "block_1_depthwise_relu (ReLU)   (None, 11, 11, 96)   0           block_1_depthwise_BN[0][0]       \n",
            "__________________________________________________________________________________________________\n",
            "block_1_project (Conv2D)        (None, 11, 11, 24)   2304        block_1_depthwise_relu[0][0]     \n",
            "__________________________________________________________________________________________________\n",
            "block_1_project_BN (BatchNormal (None, 11, 11, 24)   96          block_1_project[0][0]            \n",
            "__________________________________________________________________________________________________\n",
            "block_2_expand (Conv2D)         (None, 11, 11, 144)  3456        block_1_project_BN[0][0]         \n",
            "__________________________________________________________________________________________________\n",
            "block_2_expand_BN (BatchNormali (None, 11, 11, 144)  576         block_2_expand[0][0]             \n",
            "__________________________________________________________________________________________________\n",
            "block_2_expand_relu (ReLU)      (None, 11, 11, 144)  0           block_2_expand_BN[0][0]          \n",
            "__________________________________________________________________________________________________\n",
            "block_2_depthwise (DepthwiseCon (None, 11, 11, 144)  1296        block_2_expand_relu[0][0]        \n",
            "__________________________________________________________________________________________________\n",
            "block_2_depthwise_BN (BatchNorm (None, 11, 11, 144)  576         block_2_depthwise[0][0]          \n",
            "__________________________________________________________________________________________________\n",
            "block_2_depthwise_relu (ReLU)   (None, 11, 11, 144)  0           block_2_depthwise_BN[0][0]       \n",
            "__________________________________________________________________________________________________\n",
            "block_2_project (Conv2D)        (None, 11, 11, 24)   3456        block_2_depthwise_relu[0][0]     \n",
            "__________________________________________________________________________________________________\n",
            "block_2_project_BN (BatchNormal (None, 11, 11, 24)   96          block_2_project[0][0]            \n",
            "__________________________________________________________________________________________________\n",
            "block_2_add (Add)               (None, 11, 11, 24)   0           block_1_project_BN[0][0]         \n",
            "                                                                 block_2_project_BN[0][0]         \n",
            "__________________________________________________________________________________________________\n",
            "block_3_expand (Conv2D)         (None, 11, 11, 144)  3456        block_2_add[0][0]                \n",
            "__________________________________________________________________________________________________\n",
            "block_3_expand_BN (BatchNormali (None, 11, 11, 144)  576         block_3_expand[0][0]             \n",
            "__________________________________________________________________________________________________\n",
            "block_3_expand_relu (ReLU)      (None, 11, 11, 144)  0           block_3_expand_BN[0][0]          \n",
            "__________________________________________________________________________________________________\n",
            "block_3_pad (ZeroPadding2D)     (None, 13, 13, 144)  0           block_3_expand_relu[0][0]        \n",
            "__________________________________________________________________________________________________\n",
            "block_3_depthwise (DepthwiseCon (None, 6, 6, 144)    1296        block_3_pad[0][0]                \n",
            "__________________________________________________________________________________________________\n",
            "block_3_depthwise_BN (BatchNorm (None, 6, 6, 144)    576         block_3_depthwise[0][0]          \n",
            "__________________________________________________________________________________________________\n",
            "block_3_depthwise_relu (ReLU)   (None, 6, 6, 144)    0           block_3_depthwise_BN[0][0]       \n",
            "__________________________________________________________________________________________________\n",
            "block_3_project (Conv2D)        (None, 6, 6, 32)     4608        block_3_depthwise_relu[0][0]     \n",
            "__________________________________________________________________________________________________\n",
            "block_3_project_BN (BatchNormal (None, 6, 6, 32)     128         block_3_project[0][0]            \n",
            "__________________________________________________________________________________________________\n",
            "block_4_expand (Conv2D)         (None, 6, 6, 192)    6144        block_3_project_BN[0][0]         \n",
            "__________________________________________________________________________________________________\n",
            "block_4_expand_BN (BatchNormali (None, 6, 6, 192)    768         block_4_expand[0][0]             \n",
            "__________________________________________________________________________________________________\n",
            "block_4_expand_relu (ReLU)      (None, 6, 6, 192)    0           block_4_expand_BN[0][0]          \n",
            "__________________________________________________________________________________________________\n",
            "block_4_depthwise (DepthwiseCon (None, 6, 6, 192)    1728        block_4_expand_relu[0][0]        \n",
            "__________________________________________________________________________________________________\n",
            "block_4_depthwise_BN (BatchNorm (None, 6, 6, 192)    768         block_4_depthwise[0][0]          \n",
            "__________________________________________________________________________________________________\n",
            "block_4_depthwise_relu (ReLU)   (None, 6, 6, 192)    0           block_4_depthwise_BN[0][0]       \n",
            "__________________________________________________________________________________________________\n",
            "block_4_project (Conv2D)        (None, 6, 6, 32)     6144        block_4_depthwise_relu[0][0]     \n",
            "__________________________________________________________________________________________________\n",
            "block_4_project_BN (BatchNormal (None, 6, 6, 32)     128         block_4_project[0][0]            \n",
            "__________________________________________________________________________________________________\n",
            "block_4_add (Add)               (None, 6, 6, 32)     0           block_3_project_BN[0][0]         \n",
            "                                                                 block_4_project_BN[0][0]         \n",
            "__________________________________________________________________________________________________\n",
            "block_5_expand (Conv2D)         (None, 6, 6, 192)    6144        block_4_add[0][0]                \n",
            "__________________________________________________________________________________________________\n",
            "block_5_expand_BN (BatchNormali (None, 6, 6, 192)    768         block_5_expand[0][0]             \n",
            "__________________________________________________________________________________________________\n",
            "block_5_expand_relu (ReLU)      (None, 6, 6, 192)    0           block_5_expand_BN[0][0]          \n",
            "__________________________________________________________________________________________________\n",
            "block_5_depthwise (DepthwiseCon (None, 6, 6, 192)    1728        block_5_expand_relu[0][0]        \n",
            "__________________________________________________________________________________________________\n",
            "block_5_depthwise_BN (BatchNorm (None, 6, 6, 192)    768         block_5_depthwise[0][0]          \n",
            "__________________________________________________________________________________________________\n",
            "block_5_depthwise_relu (ReLU)   (None, 6, 6, 192)    0           block_5_depthwise_BN[0][0]       \n",
            "__________________________________________________________________________________________________\n",
            "block_5_project (Conv2D)        (None, 6, 6, 32)     6144        block_5_depthwise_relu[0][0]     \n",
            "__________________________________________________________________________________________________\n",
            "block_5_project_BN (BatchNormal (None, 6, 6, 32)     128         block_5_project[0][0]            \n",
            "__________________________________________________________________________________________________\n",
            "block_5_add (Add)               (None, 6, 6, 32)     0           block_4_add[0][0]                \n",
            "                                                                 block_5_project_BN[0][0]         \n",
            "__________________________________________________________________________________________________\n",
            "block_6_expand (Conv2D)         (None, 6, 6, 192)    6144        block_5_add[0][0]                \n",
            "__________________________________________________________________________________________________\n",
            "block_6_expand_BN (BatchNormali (None, 6, 6, 192)    768         block_6_expand[0][0]             \n",
            "__________________________________________________________________________________________________\n",
            "block_6_expand_relu (ReLU)      (None, 6, 6, 192)    0           block_6_expand_BN[0][0]          \n",
            "__________________________________________________________________________________________________\n",
            "block_6_pad (ZeroPadding2D)     (None, 7, 7, 192)    0           block_6_expand_relu[0][0]        \n",
            "__________________________________________________________________________________________________\n",
            "block_6_depthwise (DepthwiseCon (None, 3, 3, 192)    1728        block_6_pad[0][0]                \n",
            "__________________________________________________________________________________________________\n",
            "block_6_depthwise_BN (BatchNorm (None, 3, 3, 192)    768         block_6_depthwise[0][0]          \n",
            "__________________________________________________________________________________________________\n",
            "block_6_depthwise_relu (ReLU)   (None, 3, 3, 192)    0           block_6_depthwise_BN[0][0]       \n",
            "__________________________________________________________________________________________________\n",
            "block_6_project (Conv2D)        (None, 3, 3, 64)     12288       block_6_depthwise_relu[0][0]     \n",
            "__________________________________________________________________________________________________\n",
            "block_6_project_BN (BatchNormal (None, 3, 3, 64)     256         block_6_project[0][0]            \n",
            "__________________________________________________________________________________________________\n",
            "block_7_expand (Conv2D)         (None, 3, 3, 384)    24576       block_6_project_BN[0][0]         \n",
            "__________________________________________________________________________________________________\n",
            "block_7_expand_BN (BatchNormali (None, 3, 3, 384)    1536        block_7_expand[0][0]             \n",
            "__________________________________________________________________________________________________\n",
            "block_7_expand_relu (ReLU)      (None, 3, 3, 384)    0           block_7_expand_BN[0][0]          \n",
            "__________________________________________________________________________________________________\n",
            "block_7_depthwise (DepthwiseCon (None, 3, 3, 384)    3456        block_7_expand_relu[0][0]        \n",
            "__________________________________________________________________________________________________\n",
            "block_7_depthwise_BN (BatchNorm (None, 3, 3, 384)    1536        block_7_depthwise[0][0]          \n",
            "__________________________________________________________________________________________________\n",
            "block_7_depthwise_relu (ReLU)   (None, 3, 3, 384)    0           block_7_depthwise_BN[0][0]       \n",
            "__________________________________________________________________________________________________\n",
            "block_7_project (Conv2D)        (None, 3, 3, 64)     24576       block_7_depthwise_relu[0][0]     \n",
            "__________________________________________________________________________________________________\n",
            "block_7_project_BN (BatchNormal (None, 3, 3, 64)     256         block_7_project[0][0]            \n",
            "__________________________________________________________________________________________________\n",
            "block_7_add (Add)               (None, 3, 3, 64)     0           block_6_project_BN[0][0]         \n",
            "                                                                 block_7_project_BN[0][0]         \n",
            "__________________________________________________________________________________________________\n",
            "block_8_expand (Conv2D)         (None, 3, 3, 384)    24576       block_7_add[0][0]                \n",
            "__________________________________________________________________________________________________\n",
            "block_8_expand_BN (BatchNormali (None, 3, 3, 384)    1536        block_8_expand[0][0]             \n",
            "__________________________________________________________________________________________________\n",
            "block_8_expand_relu (ReLU)      (None, 3, 3, 384)    0           block_8_expand_BN[0][0]          \n",
            "__________________________________________________________________________________________________\n",
            "block_8_depthwise (DepthwiseCon (None, 3, 3, 384)    3456        block_8_expand_relu[0][0]        \n",
            "__________________________________________________________________________________________________\n",
            "block_8_depthwise_BN (BatchNorm (None, 3, 3, 384)    1536        block_8_depthwise[0][0]          \n",
            "__________________________________________________________________________________________________\n",
            "block_8_depthwise_relu (ReLU)   (None, 3, 3, 384)    0           block_8_depthwise_BN[0][0]       \n",
            "__________________________________________________________________________________________________\n",
            "block_8_project (Conv2D)        (None, 3, 3, 64)     24576       block_8_depthwise_relu[0][0]     \n",
            "__________________________________________________________________________________________________\n",
            "block_8_project_BN (BatchNormal (None, 3, 3, 64)     256         block_8_project[0][0]            \n",
            "__________________________________________________________________________________________________\n",
            "block_8_add (Add)               (None, 3, 3, 64)     0           block_7_add[0][0]                \n",
            "                                                                 block_8_project_BN[0][0]         \n",
            "__________________________________________________________________________________________________\n",
            "block_9_expand (Conv2D)         (None, 3, 3, 384)    24576       block_8_add[0][0]                \n",
            "__________________________________________________________________________________________________\n",
            "block_9_expand_BN (BatchNormali (None, 3, 3, 384)    1536        block_9_expand[0][0]             \n",
            "__________________________________________________________________________________________________\n",
            "block_9_expand_relu (ReLU)      (None, 3, 3, 384)    0           block_9_expand_BN[0][0]          \n",
            "__________________________________________________________________________________________________\n",
            "block_9_depthwise (DepthwiseCon (None, 3, 3, 384)    3456        block_9_expand_relu[0][0]        \n",
            "__________________________________________________________________________________________________\n",
            "block_9_depthwise_BN (BatchNorm (None, 3, 3, 384)    1536        block_9_depthwise[0][0]          \n",
            "__________________________________________________________________________________________________\n",
            "block_9_depthwise_relu (ReLU)   (None, 3, 3, 384)    0           block_9_depthwise_BN[0][0]       \n",
            "__________________________________________________________________________________________________\n",
            "block_9_project (Conv2D)        (None, 3, 3, 64)     24576       block_9_depthwise_relu[0][0]     \n",
            "__________________________________________________________________________________________________\n",
            "block_9_project_BN (BatchNormal (None, 3, 3, 64)     256         block_9_project[0][0]            \n",
            "__________________________________________________________________________________________________\n",
            "block_9_add (Add)               (None, 3, 3, 64)     0           block_8_add[0][0]                \n",
            "                                                                 block_9_project_BN[0][0]         \n",
            "__________________________________________________________________________________________________\n",
            "block_10_expand (Conv2D)        (None, 3, 3, 384)    24576       block_9_add[0][0]                \n",
            "__________________________________________________________________________________________________\n",
            "block_10_expand_BN (BatchNormal (None, 3, 3, 384)    1536        block_10_expand[0][0]            \n",
            "__________________________________________________________________________________________________\n",
            "block_10_expand_relu (ReLU)     (None, 3, 3, 384)    0           block_10_expand_BN[0][0]         \n",
            "__________________________________________________________________________________________________\n",
            "block_10_depthwise (DepthwiseCo (None, 3, 3, 384)    3456        block_10_expand_relu[0][0]       \n",
            "__________________________________________________________________________________________________\n",
            "block_10_depthwise_BN (BatchNor (None, 3, 3, 384)    1536        block_10_depthwise[0][0]         \n",
            "__________________________________________________________________________________________________\n",
            "block_10_depthwise_relu (ReLU)  (None, 3, 3, 384)    0           block_10_depthwise_BN[0][0]      \n",
            "__________________________________________________________________________________________________\n",
            "block_10_project (Conv2D)       (None, 3, 3, 96)     36864       block_10_depthwise_relu[0][0]    \n",
            "__________________________________________________________________________________________________\n",
            "block_10_project_BN (BatchNorma (None, 3, 3, 96)     384         block_10_project[0][0]           \n",
            "__________________________________________________________________________________________________\n",
            "block_11_expand (Conv2D)        (None, 3, 3, 576)    55296       block_10_project_BN[0][0]        \n",
            "__________________________________________________________________________________________________\n",
            "block_11_expand_BN (BatchNormal (None, 3, 3, 576)    2304        block_11_expand[0][0]            \n",
            "__________________________________________________________________________________________________\n",
            "block_11_expand_relu (ReLU)     (None, 3, 3, 576)    0           block_11_expand_BN[0][0]         \n",
            "__________________________________________________________________________________________________\n",
            "block_11_depthwise (DepthwiseCo (None, 3, 3, 576)    5184        block_11_expand_relu[0][0]       \n",
            "__________________________________________________________________________________________________\n",
            "block_11_depthwise_BN (BatchNor (None, 3, 3, 576)    2304        block_11_depthwise[0][0]         \n",
            "__________________________________________________________________________________________________\n",
            "block_11_depthwise_relu (ReLU)  (None, 3, 3, 576)    0           block_11_depthwise_BN[0][0]      \n",
            "__________________________________________________________________________________________________\n",
            "block_11_project (Conv2D)       (None, 3, 3, 96)     55296       block_11_depthwise_relu[0][0]    \n",
            "__________________________________________________________________________________________________\n",
            "block_11_project_BN (BatchNorma (None, 3, 3, 96)     384         block_11_project[0][0]           \n",
            "__________________________________________________________________________________________________\n",
            "block_11_add (Add)              (None, 3, 3, 96)     0           block_10_project_BN[0][0]        \n",
            "                                                                 block_11_project_BN[0][0]        \n",
            "__________________________________________________________________________________________________\n",
            "block_12_expand (Conv2D)        (None, 3, 3, 576)    55296       block_11_add[0][0]               \n",
            "__________________________________________________________________________________________________\n",
            "block_12_expand_BN (BatchNormal (None, 3, 3, 576)    2304        block_12_expand[0][0]            \n",
            "__________________________________________________________________________________________________\n",
            "block_12_expand_relu (ReLU)     (None, 3, 3, 576)    0           block_12_expand_BN[0][0]         \n",
            "__________________________________________________________________________________________________\n",
            "block_12_depthwise (DepthwiseCo (None, 3, 3, 576)    5184        block_12_expand_relu[0][0]       \n",
            "__________________________________________________________________________________________________\n",
            "block_12_depthwise_BN (BatchNor (None, 3, 3, 576)    2304        block_12_depthwise[0][0]         \n",
            "__________________________________________________________________________________________________\n",
            "block_12_depthwise_relu (ReLU)  (None, 3, 3, 576)    0           block_12_depthwise_BN[0][0]      \n",
            "__________________________________________________________________________________________________\n",
            "block_12_project (Conv2D)       (None, 3, 3, 96)     55296       block_12_depthwise_relu[0][0]    \n",
            "__________________________________________________________________________________________________\n",
            "block_12_project_BN (BatchNorma (None, 3, 3, 96)     384         block_12_project[0][0]           \n",
            "__________________________________________________________________________________________________\n",
            "block_12_add (Add)              (None, 3, 3, 96)     0           block_11_add[0][0]               \n",
            "                                                                 block_12_project_BN[0][0]        \n",
            "__________________________________________________________________________________________________\n",
            "block_13_expand (Conv2D)        (None, 3, 3, 576)    55296       block_12_add[0][0]               \n",
            "__________________________________________________________________________________________________\n",
            "block_13_expand_BN (BatchNormal (None, 3, 3, 576)    2304        block_13_expand[0][0]            \n",
            "__________________________________________________________________________________________________\n",
            "block_13_expand_relu (ReLU)     (None, 3, 3, 576)    0           block_13_expand_BN[0][0]         \n",
            "__________________________________________________________________________________________________\n",
            "block_13_pad (ZeroPadding2D)    (None, 5, 5, 576)    0           block_13_expand_relu[0][0]       \n",
            "__________________________________________________________________________________________________\n",
            "block_13_depthwise (DepthwiseCo (None, 2, 2, 576)    5184        block_13_pad[0][0]               \n",
            "__________________________________________________________________________________________________\n",
            "block_13_depthwise_BN (BatchNor (None, 2, 2, 576)    2304        block_13_depthwise[0][0]         \n",
            "__________________________________________________________________________________________________\n",
            "block_13_depthwise_relu (ReLU)  (None, 2, 2, 576)    0           block_13_depthwise_BN[0][0]      \n",
            "__________________________________________________________________________________________________\n",
            "block_13_project (Conv2D)       (None, 2, 2, 160)    92160       block_13_depthwise_relu[0][0]    \n",
            "__________________________________________________________________________________________________\n",
            "block_13_project_BN (BatchNorma (None, 2, 2, 160)    640         block_13_project[0][0]           \n",
            "__________________________________________________________________________________________________\n",
            "block_14_expand (Conv2D)        (None, 2, 2, 960)    153600      block_13_project_BN[0][0]        \n",
            "__________________________________________________________________________________________________\n",
            "block_14_expand_BN (BatchNormal (None, 2, 2, 960)    3840        block_14_expand[0][0]            \n",
            "__________________________________________________________________________________________________\n",
            "block_14_expand_relu (ReLU)     (None, 2, 2, 960)    0           block_14_expand_BN[0][0]         \n",
            "__________________________________________________________________________________________________\n",
            "block_14_depthwise (DepthwiseCo (None, 2, 2, 960)    8640        block_14_expand_relu[0][0]       \n",
            "__________________________________________________________________________________________________\n",
            "block_14_depthwise_BN (BatchNor (None, 2, 2, 960)    3840        block_14_depthwise[0][0]         \n",
            "__________________________________________________________________________________________________\n",
            "block_14_depthwise_relu (ReLU)  (None, 2, 2, 960)    0           block_14_depthwise_BN[0][0]      \n",
            "__________________________________________________________________________________________________\n",
            "block_14_project (Conv2D)       (None, 2, 2, 160)    153600      block_14_depthwise_relu[0][0]    \n",
            "__________________________________________________________________________________________________\n",
            "block_14_project_BN (BatchNorma (None, 2, 2, 160)    640         block_14_project[0][0]           \n",
            "__________________________________________________________________________________________________\n",
            "block_14_add (Add)              (None, 2, 2, 160)    0           block_13_project_BN[0][0]        \n",
            "                                                                 block_14_project_BN[0][0]        \n",
            "__________________________________________________________________________________________________\n",
            "block_15_expand (Conv2D)        (None, 2, 2, 960)    153600      block_14_add[0][0]               \n",
            "__________________________________________________________________________________________________\n",
            "block_15_expand_BN (BatchNormal (None, 2, 2, 960)    3840        block_15_expand[0][0]            \n",
            "__________________________________________________________________________________________________\n",
            "block_15_expand_relu (ReLU)     (None, 2, 2, 960)    0           block_15_expand_BN[0][0]         \n",
            "__________________________________________________________________________________________________\n",
            "block_15_depthwise (DepthwiseCo (None, 2, 2, 960)    8640        block_15_expand_relu[0][0]       \n",
            "__________________________________________________________________________________________________\n",
            "block_15_depthwise_BN (BatchNor (None, 2, 2, 960)    3840        block_15_depthwise[0][0]         \n",
            "__________________________________________________________________________________________________\n",
            "block_15_depthwise_relu (ReLU)  (None, 2, 2, 960)    0           block_15_depthwise_BN[0][0]      \n",
            "__________________________________________________________________________________________________\n",
            "block_15_project (Conv2D)       (None, 2, 2, 160)    153600      block_15_depthwise_relu[0][0]    \n",
            "__________________________________________________________________________________________________\n",
            "block_15_project_BN (BatchNorma (None, 2, 2, 160)    640         block_15_project[0][0]           \n",
            "__________________________________________________________________________________________________\n",
            "block_15_add (Add)              (None, 2, 2, 160)    0           block_14_add[0][0]               \n",
            "                                                                 block_15_project_BN[0][0]        \n",
            "__________________________________________________________________________________________________\n",
            "block_16_expand (Conv2D)        (None, 2, 2, 960)    153600      block_15_add[0][0]               \n",
            "__________________________________________________________________________________________________\n",
            "block_16_expand_BN (BatchNormal (None, 2, 2, 960)    3840        block_16_expand[0][0]            \n",
            "__________________________________________________________________________________________________\n",
            "block_16_expand_relu (ReLU)     (None, 2, 2, 960)    0           block_16_expand_BN[0][0]         \n",
            "__________________________________________________________________________________________________\n",
            "block_16_depthwise (DepthwiseCo (None, 2, 2, 960)    8640        block_16_expand_relu[0][0]       \n",
            "__________________________________________________________________________________________________\n",
            "block_16_depthwise_BN (BatchNor (None, 2, 2, 960)    3840        block_16_depthwise[0][0]         \n",
            "__________________________________________________________________________________________________\n",
            "block_16_depthwise_relu (ReLU)  (None, 2, 2, 960)    0           block_16_depthwise_BN[0][0]      \n",
            "__________________________________________________________________________________________________\n",
            "block_16_project (Conv2D)       (None, 2, 2, 320)    307200      block_16_depthwise_relu[0][0]    \n",
            "__________________________________________________________________________________________________\n",
            "block_16_project_BN (BatchNorma (None, 2, 2, 320)    1280        block_16_project[0][0]           \n",
            "__________________________________________________________________________________________________\n",
            "Conv_1 (Conv2D)                 (None, 2, 2, 1280)   409600      block_16_project_BN[0][0]        \n",
            "__________________________________________________________________________________________________\n",
            "Conv_1_bn (BatchNormalization)  (None, 2, 2, 1280)   5120        Conv_1[0][0]                     \n",
            "__________________________________________________________________________________________________\n",
            "out_relu (ReLU)                 (None, 2, 2, 1280)   0           Conv_1_bn[0][0]                  \n",
            "==================================================================================================\n",
            "Total params: 2,257,984\n",
            "Trainable params: 1,862,592\n",
            "Non-trainable params: 395,392\n",
            "__________________________________________________________________________________________________\n"
          ],
          "name": "stdout"
        }
      ]
    },
    {
      "cell_type": "code",
      "metadata": {
        "execution": {
          "iopub.execute_input": "2020-11-15T01:48:13.932030Z",
          "iopub.status.busy": "2020-11-15T01:48:13.931236Z",
          "iopub.status.idle": "2020-11-15T01:48:13.934463Z",
          "shell.execute_reply": "2020-11-15T01:48:13.935093Z"
        },
        "id": "dLnpMF5KOALm",
        "papermill": {
          "duration": 0.562244,
          "end_time": "2020-11-15T01:48:13.935223",
          "exception": false,
          "start_time": "2020-11-15T01:48:13.372979",
          "status": "completed"
        },
        "tags": []
      },
      "source": [
        "global_average_layer = tf.keras.layers.GlobalAveragePooling2D()"
      ],
      "execution_count": null,
      "outputs": []
    },
    {
      "cell_type": "code",
      "metadata": {
        "execution": {
          "iopub.execute_input": "2020-11-15T01:48:15.042611Z",
          "iopub.status.busy": "2020-11-15T01:48:15.041676Z",
          "iopub.status.idle": "2020-11-15T01:48:15.045546Z",
          "shell.execute_reply": "2020-11-15T01:48:15.044948Z"
        },
        "id": "Wv4afXKj6cVa",
        "papermill": {
          "duration": 0.563913,
          "end_time": "2020-11-15T01:48:15.045677",
          "exception": false,
          "start_time": "2020-11-15T01:48:14.481764",
          "status": "completed"
        },
        "tags": []
      },
      "source": [
        "prediction_layer = tf.keras.layers.Dense(1)"
      ],
      "execution_count": null,
      "outputs": []
    },
    {
      "cell_type": "code",
      "metadata": {
        "execution": {
          "iopub.execute_input": "2020-11-15T01:48:16.184434Z",
          "iopub.status.busy": "2020-11-15T01:48:16.182331Z",
          "iopub.status.idle": "2020-11-15T01:48:16.633857Z",
          "shell.execute_reply": "2020-11-15T01:48:16.632974Z"
        },
        "id": "DgzQX6Veb2WT",
        "papermill": {
          "duration": 1.021032,
          "end_time": "2020-11-15T01:48:16.634033",
          "exception": false,
          "start_time": "2020-11-15T01:48:15.613001",
          "status": "completed"
        },
        "tags": [],
        "outputId": "0406fb25-6ab1-4bda-eb79-c6d9ac1f2ad1",
        "colab": {
          "base_uri": "https://localhost:8080/"
        }
      },
      "source": [
        "inputs = tf.keras.Input(shape=(160, 160, 3))\n",
        "# x = data_augmentation(inputs)\n",
        "x = preprocess_input(inputs)\n",
        "x = base_model(x, training=False)\n",
        "x = global_average_layer(x)\n",
        "x = tf.keras.layers.Dropout(0.2)(x)\n",
        "outputs = prediction_layer(x)\n",
        "model = tf.keras.Model(inputs, outputs)"
      ],
      "execution_count": null,
      "outputs": [
        {
          "output_type": "stream",
          "text": [
            "WARNING:tensorflow:Model was constructed with shape (None, 41, 41, 3) for input Tensor(\"input_2:0\", shape=(None, 41, 41, 3), dtype=float32), but it was called on an input with incompatible shape (None, 160, 160, 3).\n"
          ],
          "name": "stdout"
        }
      ]
    },
    {
      "cell_type": "code",
      "metadata": {
        "execution": {
          "iopub.execute_input": "2020-11-15T01:48:17.782500Z",
          "iopub.status.busy": "2020-11-15T01:48:17.781887Z",
          "iopub.status.idle": "2020-11-15T01:48:17.790355Z",
          "shell.execute_reply": "2020-11-15T01:48:17.790823Z"
        },
        "id": "RpR8HdyMhukJ",
        "papermill": {
          "duration": 0.585978,
          "end_time": "2020-11-15T01:48:17.790960",
          "exception": false,
          "start_time": "2020-11-15T01:48:17.204982",
          "status": "completed"
        },
        "tags": []
      },
      "source": [
        "base_learning_rate = 0.0001\n",
        "#compiling the model using adam optimizer and binary crossentropy as loss function\n",
        "model.compile(optimizer=tf.keras.optimizers.Adam(lr=base_learning_rate),\n",
        "              loss=tf.keras.losses.BinaryCrossentropy(from_logits=True),\n",
        "              metrics=['accuracy'])"
      ],
      "execution_count": null,
      "outputs": []
    },
    {
      "cell_type": "code",
      "metadata": {
        "execution": {
          "iopub.execute_input": "2020-11-15T01:48:18.912731Z",
          "iopub.status.busy": "2020-11-15T01:48:18.911721Z",
          "iopub.status.idle": "2020-11-15T01:48:18.917531Z",
          "shell.execute_reply": "2020-11-15T01:48:18.918327Z"
        },
        "id": "I8ARiyMFsgbH",
        "papermill": {
          "duration": 0.582629,
          "end_time": "2020-11-15T01:48:18.918574",
          "exception": false,
          "start_time": "2020-11-15T01:48:18.335945",
          "status": "completed"
        },
        "tags": [],
        "outputId": "e6f67f72-b190-473d-fa5c-9e8a9b5ad4f8",
        "colab": {
          "base_uri": "https://localhost:8080/"
        }
      },
      "source": [
        "model.summary()"
      ],
      "execution_count": null,
      "outputs": [
        {
          "output_type": "stream",
          "text": [
            "Model: \"functional_3\"\n",
            "_________________________________________________________________\n",
            "Layer (type)                 Output Shape              Param #   \n",
            "=================================================================\n",
            "input_3 (InputLayer)         [(None, 160, 160, 3)]     0         \n",
            "_________________________________________________________________\n",
            "sequential (Sequential)      (None, None, None, 3)     0         \n",
            "_________________________________________________________________\n",
            "tf_op_layer_RealDiv (TensorF [(None, 160, 160, 3)]     0         \n",
            "_________________________________________________________________\n",
            "tf_op_layer_Sub (TensorFlowO [(None, 160, 160, 3)]     0         \n",
            "_________________________________________________________________\n",
            "mobilenetv2_1.00_224 (Functi (None, 2, 2, 1280)        2257984   \n",
            "_________________________________________________________________\n",
            "global_average_pooling2d (Gl (None, 1280)              0         \n",
            "_________________________________________________________________\n",
            "dropout_2 (Dropout)          (None, 1280)              0         \n",
            "_________________________________________________________________\n",
            "dense_2 (Dense)              (None, 1)                 1281      \n",
            "=================================================================\n",
            "Total params: 2,259,265\n",
            "Trainable params: 1,863,873\n",
            "Non-trainable params: 395,392\n",
            "_________________________________________________________________\n"
          ],
          "name": "stdout"
        }
      ]
    },
    {
      "cell_type": "code",
      "metadata": {
        "execution": {
          "iopub.execute_input": "2020-11-15T01:48:20.061070Z",
          "iopub.status.busy": "2020-11-15T01:48:20.060416Z",
          "iopub.status.idle": "2020-11-15T01:48:20.066128Z",
          "shell.execute_reply": "2020-11-15T01:48:20.065531Z"
        },
        "id": "krvBumovycVA",
        "papermill": {
          "duration": 0.589212,
          "end_time": "2020-11-15T01:48:20.066225",
          "exception": false,
          "start_time": "2020-11-15T01:48:19.477013",
          "status": "completed"
        },
        "tags": [],
        "outputId": "1ee7af1d-ff10-4880-916b-805ca9fe4d04",
        "colab": {
          "base_uri": "https://localhost:8080/"
        }
      },
      "source": [
        "len(model.trainable_variables)"
      ],
      "execution_count": null,
      "outputs": [
        {
          "output_type": "execute_result",
          "data": {
            "text/plain": [
              "58"
            ]
          },
          "metadata": {
            "tags": []
          },
          "execution_count": 30
        }
      ]
    },
    {
      "cell_type": "code",
      "metadata": {
        "execution": {
          "iopub.execute_input": "2020-11-15T01:48:21.223142Z",
          "iopub.status.busy": "2020-11-15T01:48:21.221870Z",
          "iopub.status.idle": "2020-11-15T01:48:24.482162Z",
          "shell.execute_reply": "2020-11-15T01:48:24.480647Z"
        },
        "id": "Om4O3EESkab1",
        "papermill": {
          "duration": 3.854316,
          "end_time": "2020-11-15T01:48:24.482275",
          "exception": false,
          "start_time": "2020-11-15T01:48:20.627959",
          "status": "completed"
        },
        "tags": [],
        "outputId": "8e9c32f0-0023-4b2d-d74d-53a319107ff8",
        "colab": {
          "base_uri": "https://localhost:8080/"
        }
      },
      "source": [
        "\n",
        "#calculating output labels of validation input data of transfer learning model without fine tuning or\n",
        "# training the trainable layers\n",
        "model.predict(x_val).shape\n",
        "loss0, accuracy0 = model.evaluate(x_val,y_val)"
      ],
      "execution_count": null,
      "outputs": [
        {
          "output_type": "stream",
          "text": [
            "WARNING:tensorflow:Model was constructed with shape (None, 160, 160, 3) for input Tensor(\"input_3:0\", shape=(None, 160, 160, 3), dtype=float32), but it was called on an input with incompatible shape (None, 41, 41, 3).\n",
            "WARNING:tensorflow:Model was constructed with shape (None, 160, 160, 3) for input Tensor(\"input_3:0\", shape=(None, 160, 160, 3), dtype=float32), but it was called on an input with incompatible shape (None, 41, 41, 3).\n",
            "WARNING:tensorflow:Model was constructed with shape (None, 160, 160, 3) for input Tensor(\"input_3:0\", shape=(None, 160, 160, 3), dtype=float32), but it was called on an input with incompatible shape (None, 41, 41, 3).\n",
            "47/47 [==============================] - 0s 6ms/step - loss: 1.1831 - accuracy: 0.3773\n"
          ],
          "name": "stdout"
        }
      ]
    },
    {
      "cell_type": "code",
      "metadata": {
        "execution": {
          "iopub.execute_input": "2020-11-15T01:48:25.598064Z",
          "iopub.status.busy": "2020-11-15T01:48:25.597043Z",
          "iopub.status.idle": "2020-11-15T01:48:25.600864Z",
          "shell.execute_reply": "2020-11-15T01:48:25.601295Z"
        },
        "id": "r90Accs3Idfz",
        "papermill": {
          "duration": 0.567509,
          "end_time": "2020-11-15T01:48:25.601424",
          "exception": false,
          "start_time": "2020-11-15T01:48:25.033915",
          "status": "completed"
        },
        "tags": [],
        "outputId": "c37a0dbe-4ec8-434f-8c48-512f74bccf3b",
        "colab": {
          "base_uri": "https://localhost:8080/"
        }
      },
      "source": [
        "x_train.shape"
      ],
      "execution_count": null,
      "outputs": [
        {
          "output_type": "execute_result",
          "data": {
            "text/plain": [
              "(9000, 41, 41, 3)"
            ]
          },
          "metadata": {
            "tags": []
          },
          "execution_count": 35
        }
      ]
    },
    {
      "cell_type": "code",
      "metadata": {
        "execution": {
          "iopub.execute_input": "2020-11-15T01:48:26.712462Z",
          "iopub.status.busy": "2020-11-15T01:48:26.711778Z",
          "iopub.status.idle": "2020-11-15T01:48:26.718279Z",
          "shell.execute_reply": "2020-11-15T01:48:26.717785Z"
        },
        "id": "8cYT1c48CuSd",
        "papermill": {
          "duration": 0.56746,
          "end_time": "2020-11-15T01:48:26.718383",
          "exception": false,
          "start_time": "2020-11-15T01:48:26.150923",
          "status": "completed"
        },
        "tags": [],
        "outputId": "46d94151-91de-4cdc-f210-5a121d0ea34d",
        "colab": {
          "base_uri": "https://localhost:8080/"
        }
      },
      "source": [
        "#performance of transfer learning model without fine tuning or\n",
        "# training the trainable layers on validation data\n",
        "print(\"initial loss: {:.2f}\".format(loss0))\n",
        "print(\"initial accuracy: {:.2f}\".format(accuracy0))"
      ],
      "execution_count": null,
      "outputs": [
        {
          "output_type": "stream",
          "text": [
            "initial loss: 1.18\n",
            "initial accuracy: 0.38\n"
          ],
          "name": "stdout"
        }
      ]
    },
    {
      "cell_type": "markdown",
      "metadata": {
        "id": "2LO3_6CvTsiR",
        "papermill": {
          "duration": 0.603865,
          "end_time": "2020-11-15T01:48:27.873517",
          "exception": false,
          "start_time": "2020-11-15T01:48:27.269652",
          "status": "completed"
        },
        "tags": []
      },
      "source": [
        "##Training Model\n"
      ]
    },
    {
      "cell_type": "code",
      "metadata": {
        "execution": {
          "iopub.execute_input": "2020-11-15T01:48:29.030928Z",
          "iopub.status.busy": "2020-11-15T01:48:29.029800Z",
          "iopub.status.idle": "2020-11-15T01:49:09.148966Z",
          "shell.execute_reply": "2020-11-15T01:49:09.148309Z"
        },
        "id": "JsaRFlZ9B6WK",
        "papermill": {
          "duration": 40.703076,
          "end_time": "2020-11-15T01:49:09.149111",
          "exception": false,
          "start_time": "2020-11-15T01:48:28.446035",
          "status": "completed"
        },
        "tags": [],
        "outputId": "d32c951d-f285-4a00-b722-56f252e4d05d",
        "colab": {
          "base_uri": "https://localhost:8080/"
        }
      },
      "source": [
        "#training model using train and validation data with early stopping\n",
        "# history = model.fit(x_train,y_train,\n",
        "#                     epochs=initial_epochs,\n",
        "#                     callbacks = [early_stopping],\n",
        "#                     validation_data=(x_val,y_val))\n",
        "history = model.fit(new_data,new_lable,\n",
        "                    epochs=initial_epochs,\n",
        "                    callbacks = [early_stopping],\n",
        "                    validation_data=(x_val,y_val))"
      ],
      "execution_count": null,
      "outputs": [
        {
          "output_type": "stream",
          "text": [
            "Epoch 1/100\n",
            "563/563 [==============================] - 6s 11ms/step - loss: 0.0402 - accuracy: 0.9894 - val_loss: 0.0329 - val_accuracy: 0.9913\n",
            "Epoch 2/100\n",
            "563/563 [==============================] - 6s 10ms/step - loss: 0.0416 - accuracy: 0.9881 - val_loss: 0.0417 - val_accuracy: 0.9893\n",
            "Epoch 3/100\n",
            "563/563 [==============================] - 6s 11ms/step - loss: 0.0423 - accuracy: 0.9889 - val_loss: 0.0430 - val_accuracy: 0.9873\n",
            "Epoch 4/100\n",
            "563/563 [==============================] - 6s 11ms/step - loss: 0.0373 - accuracy: 0.9909 - val_loss: 0.0407 - val_accuracy: 0.9893\n"
          ],
          "name": "stdout"
        }
      ]
    },
    {
      "cell_type": "code",
      "metadata": {
        "execution": {
          "iopub.execute_input": "2020-11-15T01:49:10.743387Z",
          "iopub.status.busy": "2020-11-15T01:49:10.742301Z",
          "iopub.status.idle": "2020-11-15T01:49:11.362592Z",
          "shell.execute_reply": "2020-11-15T01:49:11.361962Z"
        },
        "id": "PjpSkG74ZCon",
        "papermill": {
          "duration": 1.432227,
          "end_time": "2020-11-15T01:49:11.362721",
          "exception": false,
          "start_time": "2020-11-15T01:49:09.930494",
          "status": "completed"
        },
        "tags": [],
        "outputId": "893342e5-6289-4d25-a86a-fdf0f8144b4f",
        "colab": {
          "base_uri": "https://localhost:8080/"
        }
      },
      "source": [
        "#Test performance of model on test data\n",
        "loss0, accuracy0 = model.evaluate(x_test,y_test)"
      ],
      "execution_count": null,
      "outputs": [
        {
          "output_type": "stream",
          "text": [
            "80/80 [==============================] - 1s 7ms/step - loss: 0.0398 - accuracy: 0.9893\n"
          ],
          "name": "stdout"
        }
      ]
    },
    {
      "cell_type": "code",
      "metadata": {
        "execution": {
          "iopub.execute_input": "2020-11-15T01:49:12.958316Z",
          "iopub.status.busy": "2020-11-15T01:49:12.957029Z",
          "iopub.status.idle": "2020-11-15T01:49:13.283423Z",
          "shell.execute_reply": "2020-11-15T01:49:13.292126Z"
        },
        "id": "53OTCh3jnbwV",
        "papermill": {
          "duration": 1.153048,
          "end_time": "2020-11-15T01:49:13.292305",
          "exception": false,
          "start_time": "2020-11-15T01:49:12.139257",
          "status": "completed"
        },
        "tags": [],
        "outputId": "8ce60b4e-6504-4039-e8f2-e848328c3128",
        "colab": {
          "base_uri": "https://localhost:8080/",
          "height": 513
        }
      },
      "source": [
        "# Plotting Learning Curves\n",
        "acc = history.history['accuracy']\n",
        "val_acc = history.history['val_accuracy']\n",
        "\n",
        "loss = history.history['loss']\n",
        "val_loss = history.history['val_loss']\n",
        "\n",
        "plot_curves(acc, val_acc, loss, val_loss)"
      ],
      "execution_count": null,
      "outputs": [
        {
          "output_type": "display_data",
          "data": {
            "image/png": "[encoded data removed]",
            "text/plain": [
              "<Figure size 576x576 with 2 Axes>"
            ]
          },
          "metadata": {
            "tags": [],
            "needs_background": "light"
          }
        }
      ]
    },
    {
      "cell_type": "markdown",
      "source": [
        "## Taransfer Learning MobileNet-V3 Small"
      ],
      "metadata": {
        "id": "oPvgu7ql8D4v"
      }
    },
    {
      "cell_type": "code",
      "source": [
        "# Create the base model from the pre-trained model MobileNet V2\n",
        "IMG_SHAPE = IMG_SIZE + (3,)\n",
        "base_model = tf.keras.applications.MobileNetV3Small(\n",
        "    input_shape=IMG_SHAPE,\n",
        "    include_top=False,\n",
        "    weights='imagenet'\n",
        ")\n",
        "# Let's take a look to see how many layers are in the base model\n",
        "base_model.trainable = True\n",
        "print(\"Number of layers in the base model: \", len(base_model.layers))\n",
        "\n",
        "# Fine-tune from this layer onwards\n",
        "fine_tune_at = 100\n",
        "\n",
        "# Freeze all the layers before the `fine_tune_at` layer\n",
        "for layer in base_model.layers[:fine_tune_at]:\n",
        "    layer.trainable =  False\n",
        "\n",
        "# Let's take a look at the base model architecture\n",
        "base_model.summary()\n",
        "\n",
        "global_average_layer = tf.keras.layers.GlobalAveragePooling2D()\n",
        "\n",
        "prediction_layer = tf.keras.layers.Dense(1)\n",
        "\n",
        "inputs = tf.keras.Input(shape=IMG_SHAPE)\n",
        "# x = data_augmentation(inputs)\n",
        "x = tf.keras.applications.mobilenet_v3.preprocess_input(inputs)\n",
        "x = base_model(x, training=False)\n",
        "x = global_average_layer(x)\n",
        "x = tf.keras.layers.Dropout(0.2)(x)\n",
        "outputs = prediction_layer(x)\n",
        "model = tf.keras.Model(inputs, outputs)\n",
        "\n",
        "base_learning_rate = 0.0001\n",
        "#compiling the model using adam optimizer and binary crossentropy as loss function\n",
        "model.compile(optimizer=tf.keras.optimizers.Adam(lr=base_learning_rate),\n",
        "              loss=tf.keras.losses.BinaryCrossentropy(from_logits=True),\n",
        "              metrics=['accuracy'])\n",
        "\n",
        "model.summary()\n",
        "\n",
        "len(model.trainable_variables)\n",
        "\n",
        "#calculating output labels of validation input data of transfer learning model without fine tuning or\n",
        "# training the trainable layers\n",
        "model.predict(x_val).shape\n",
        "loss0, accuracy0 = model.evaluate(x_val,y_val)\n",
        "\n",
        "x_train.shape\n",
        "\n",
        "#performance of transfer learning model without fine tuning or\n",
        "# training the trainable layers on validation data\n",
        "print(\"initial loss: {:.2f}\".format(loss0))\n",
        "print(\"initial accuracy: {:.2f}\".format(accuracy0))\n",
        "\n",
        "\"\"\"##Training Model\n",
        "\n",
        "\"\"\"\n",
        "\n",
        "#training model using train and validation data with early stopping\n",
        "# history = model.fit(x_train,y_train,\n",
        "#                     epochs=initial_epochs,\n",
        "#                     callbacks = [early_stopping],\n",
        "#                     validation_data=(x_val,y_val))\n",
        "history = model.fit(new_data,new_lable,\n",
        "                    epochs=initial_epochs,\n",
        "                    callbacks = [early_stopping],\n",
        "                    validation_data=(x_val,y_val))\n",
        "\n",
        "#Test performance of model on test data\n",
        "loss0, accuracy0 = model.evaluate(x_test,y_test)\n",
        "\n",
        "# Plotting Learning Curves\n",
        "acc = history.history['accuracy']\n",
        "val_acc = history.history['val_accuracy']\n",
        "\n",
        "loss = history.history['loss']\n",
        "val_loss = history.history['val_loss']\n",
        "\n",
        "plot_curves(acc, val_acc, loss, val_loss)"
      ],
      "metadata": {
        "id": "9E3n-CJo73M8",
        "outputId": "683a4f15-d656-43fa-eb95-a4b4084c6039",
        "colab": {
          "base_uri": "https://localhost:8080/",
          "height": 1000
        }
      },
      "execution_count": 26,
      "outputs": [
        {
          "output_type": "stream",
          "name": "stderr",
          "text": [
            "WARNING:tensorflow:`input_shape` is undefined or non-square, or `rows` is not 224. Weights for input shape (224, 224) will be loaded as the default.\n"
          ]
        },
        {
          "output_type": "stream",
          "name": "stdout",
          "text": [
            "Number of layers in the base model:  229\n",
            "Model: \"MobilenetV3small\"\n",
            "__________________________________________________________________________________________________\n",
            " Layer (type)                Output Shape                 Param #   Connected to                  \n",
            "==================================================================================================\n",
            " input_15 (InputLayer)       [(None, 41, 41, 3)]          0         []                            \n",
            "                                                                                                  \n",
            " rescaling_8 (Rescaling)     (None, 41, 41, 3)            0         ['input_15[0][0]']            \n",
            "                                                                                                  \n",
            " Conv (Conv2D)               (None, 21, 21, 16)           432       ['rescaling_8[0][0]']         \n",
            "                                                                                                  \n",
            " Conv/BatchNorm (BatchNorma  (None, 21, 21, 16)           64        ['Conv[0][0]']                \n",
            " lization)                                                                                        \n",
            "                                                                                                  \n",
            " tf.math.add_189 (TFOpLambd  (None, 21, 21, 16)           0         ['Conv/BatchNorm[0][0]']      \n",
            " a)                                                                                               \n",
            "                                                                                                  \n",
            " re_lu_224 (ReLU)            (None, 21, 21, 16)           0         ['tf.math.add_189[0][0]']     \n",
            "                                                                                                  \n",
            " tf.math.multiply_189 (TFOp  (None, 21, 21, 16)           0         ['re_lu_224[0][0]']           \n",
            " Lambda)                                                                                          \n",
            "                                                                                                  \n",
            " multiply_126 (Multiply)     (None, 21, 21, 16)           0         ['Conv/BatchNorm[0][0]',      \n",
            "                                                                     'tf.math.multiply_189[0][0]']\n",
            "                                                                                                  \n",
            " expanded_conv/depthwise/pa  (None, 23, 23, 16)           0         ['multiply_126[0][0]']        \n",
            " d (ZeroPadding2D)                                                                                \n",
            "                                                                                                  \n",
            " expanded_conv/depthwise (D  (None, 11, 11, 16)           144       ['expanded_conv/depthwise/pad[\n",
            " epthwiseConv2D)                                                    0][0]']                       \n",
            "                                                                                                  \n",
            " expanded_conv/depthwise/Ba  (None, 11, 11, 16)           64        ['expanded_conv/depthwise[0][0\n",
            " tchNorm (BatchNormalizatio                                         ]']                           \n",
            " n)                                                                                               \n",
            "                                                                                                  \n",
            " re_lu_225 (ReLU)            (None, 11, 11, 16)           0         ['expanded_conv/depthwise/Batc\n",
            "                                                                    hNorm[0][0]']                 \n",
            "                                                                                                  \n",
            " expanded_conv/squeeze_exci  (None, 1, 1, 16)             0         ['re_lu_225[0][0]']           \n",
            " te/AvgPool (GlobalAverageP                                                                       \n",
            " ooling2D)                                                                                        \n",
            "                                                                                                  \n",
            " expanded_conv/squeeze_exci  (None, 1, 1, 8)              136       ['expanded_conv/squeeze_excite\n",
            " te/Conv (Conv2D)                                                   /AvgPool[0][0]']              \n",
            "                                                                                                  \n",
            " expanded_conv/squeeze_exci  (None, 1, 1, 8)              0         ['expanded_conv/squeeze_excite\n",
            " te/Relu (ReLU)                                                     /Conv[0][0]']                 \n",
            "                                                                                                  \n",
            " expanded_conv/squeeze_exci  (None, 1, 1, 16)             144       ['expanded_conv/squeeze_excite\n",
            " te/Conv_1 (Conv2D)                                                 /Relu[0][0]']                 \n",
            "                                                                                                  \n",
            " tf.math.add_190 (TFOpLambd  (None, 1, 1, 16)             0         ['expanded_conv/squeeze_excite\n",
            " a)                                                                 /Conv_1[0][0]']               \n",
            "                                                                                                  \n",
            " re_lu_226 (ReLU)            (None, 1, 1, 16)             0         ['tf.math.add_190[0][0]']     \n",
            "                                                                                                  \n",
            " tf.math.multiply_190 (TFOp  (None, 1, 1, 16)             0         ['re_lu_226[0][0]']           \n",
            " Lambda)                                                                                          \n",
            "                                                                                                  \n",
            " expanded_conv/squeeze_exci  (None, 11, 11, 16)           0         ['re_lu_225[0][0]',           \n",
            " te/Mul (Multiply)                                                   'tf.math.multiply_190[0][0]']\n",
            "                                                                                                  \n",
            " expanded_conv/project (Con  (None, 11, 11, 16)           256       ['expanded_conv/squeeze_excite\n",
            " v2D)                                                               /Mul[0][0]']                  \n",
            "                                                                                                  \n",
            " expanded_conv/project/Batc  (None, 11, 11, 16)           64        ['expanded_conv/project[0][0]'\n",
            " hNorm (BatchNormalization)                                         ]                             \n",
            "                                                                                                  \n",
            " expanded_conv_1/expand (Co  (None, 11, 11, 72)           1152      ['expanded_conv/project/BatchN\n",
            " nv2D)                                                              orm[0][0]']                   \n",
            "                                                                                                  \n",
            " expanded_conv_1/expand/Bat  (None, 11, 11, 72)           288       ['expanded_conv_1/expand[0][0]\n",
            " chNorm (BatchNormalization                                         ']                            \n",
            " )                                                                                                \n",
            "                                                                                                  \n",
            " re_lu_227 (ReLU)            (None, 11, 11, 72)           0         ['expanded_conv_1/expand/Batch\n",
            "                                                                    Norm[0][0]']                  \n",
            "                                                                                                  \n",
            " expanded_conv_1/depthwise/  (None, 13, 13, 72)           0         ['re_lu_227[0][0]']           \n",
            " pad (ZeroPadding2D)                                                                              \n",
            "                                                                                                  \n",
            " expanded_conv_1/depthwise   (None, 6, 6, 72)             648       ['expanded_conv_1/depthwise/pa\n",
            " (DepthwiseConv2D)                                                  d[0][0]']                     \n",
            "                                                                                                  \n",
            " expanded_conv_1/depthwise/  (None, 6, 6, 72)             288       ['expanded_conv_1/depthwise[0]\n",
            " BatchNorm (BatchNormalizat                                         [0]']                         \n",
            " ion)                                                                                             \n",
            "                                                                                                  \n",
            " re_lu_228 (ReLU)            (None, 6, 6, 72)             0         ['expanded_conv_1/depthwise/Ba\n",
            "                                                                    tchNorm[0][0]']               \n",
            "                                                                                                  \n",
            " expanded_conv_1/project (C  (None, 6, 6, 24)             1728      ['re_lu_228[0][0]']           \n",
            " onv2D)                                                                                           \n",
            "                                                                                                  \n",
            " expanded_conv_1/project/Ba  (None, 6, 6, 24)             96        ['expanded_conv_1/project[0][0\n",
            " tchNorm (BatchNormalizatio                                         ]']                           \n",
            " n)                                                                                               \n",
            "                                                                                                  \n",
            " expanded_conv_2/expand (Co  (None, 6, 6, 88)             2112      ['expanded_conv_1/project/Batc\n",
            " nv2D)                                                              hNorm[0][0]']                 \n",
            "                                                                                                  \n",
            " expanded_conv_2/expand/Bat  (None, 6, 6, 88)             352       ['expanded_conv_2/expand[0][0]\n",
            " chNorm (BatchNormalization                                         ']                            \n",
            " )                                                                                                \n",
            "                                                                                                  \n",
            " re_lu_229 (ReLU)            (None, 6, 6, 88)             0         ['expanded_conv_2/expand/Batch\n",
            "                                                                    Norm[0][0]']                  \n",
            "                                                                                                  \n",
            " expanded_conv_2/depthwise   (None, 6, 6, 88)             792       ['re_lu_229[0][0]']           \n",
            " (DepthwiseConv2D)                                                                                \n",
            "                                                                                                  \n",
            " expanded_conv_2/depthwise/  (None, 6, 6, 88)             352       ['expanded_conv_2/depthwise[0]\n",
            " BatchNorm (BatchNormalizat                                         [0]']                         \n",
            " ion)                                                                                             \n",
            "                                                                                                  \n",
            " re_lu_230 (ReLU)            (None, 6, 6, 88)             0         ['expanded_conv_2/depthwise/Ba\n",
            "                                                                    tchNorm[0][0]']               \n",
            "                                                                                                  \n",
            " expanded_conv_2/project (C  (None, 6, 6, 24)             2112      ['re_lu_230[0][0]']           \n",
            " onv2D)                                                                                           \n",
            "                                                                                                  \n",
            " expanded_conv_2/project/Ba  (None, 6, 6, 24)             96        ['expanded_conv_2/project[0][0\n",
            " tchNorm (BatchNormalizatio                                         ]']                           \n",
            " n)                                                                                               \n",
            "                                                                                                  \n",
            " expanded_conv_2/Add (Add)   (None, 6, 6, 24)             0         ['expanded_conv_1/project/Batc\n",
            "                                                                    hNorm[0][0]',                 \n",
            "                                                                     'expanded_conv_2/project/Batc\n",
            "                                                                    hNorm[0][0]']                 \n",
            "                                                                                                  \n",
            " expanded_conv_3/expand (Co  (None, 6, 6, 96)             2304      ['expanded_conv_2/Add[0][0]'] \n",
            " nv2D)                                                                                            \n",
            "                                                                                                  \n",
            " expanded_conv_3/expand/Bat  (None, 6, 6, 96)             384       ['expanded_conv_3/expand[0][0]\n",
            " chNorm (BatchNormalization                                         ']                            \n",
            " )                                                                                                \n",
            "                                                                                                  \n",
            " tf.math.add_191 (TFOpLambd  (None, 6, 6, 96)             0         ['expanded_conv_3/expand/Batch\n",
            " a)                                                                 Norm[0][0]']                  \n",
            "                                                                                                  \n",
            " re_lu_231 (ReLU)            (None, 6, 6, 96)             0         ['tf.math.add_191[0][0]']     \n",
            "                                                                                                  \n",
            " tf.math.multiply_191 (TFOp  (None, 6, 6, 96)             0         ['re_lu_231[0][0]']           \n",
            " Lambda)                                                                                          \n",
            "                                                                                                  \n",
            " multiply_127 (Multiply)     (None, 6, 6, 96)             0         ['expanded_conv_3/expand/Batch\n",
            "                                                                    Norm[0][0]',                  \n",
            "                                                                     'tf.math.multiply_191[0][0]']\n",
            "                                                                                                  \n",
            " expanded_conv_3/depthwise/  (None, 9, 9, 96)             0         ['multiply_127[0][0]']        \n",
            " pad (ZeroPadding2D)                                                                              \n",
            "                                                                                                  \n",
            " expanded_conv_3/depthwise   (None, 3, 3, 96)             2400      ['expanded_conv_3/depthwise/pa\n",
            " (DepthwiseConv2D)                                                  d[0][0]']                     \n",
            "                                                                                                  \n",
            " expanded_conv_3/depthwise/  (None, 3, 3, 96)             384       ['expanded_conv_3/depthwise[0]\n",
            " BatchNorm (BatchNormalizat                                         [0]']                         \n",
            " ion)                                                                                             \n",
            "                                                                                                  \n",
            " tf.math.add_192 (TFOpLambd  (None, 3, 3, 96)             0         ['expanded_conv_3/depthwise/Ba\n",
            " a)                                                                 tchNorm[0][0]']               \n",
            "                                                                                                  \n",
            " re_lu_232 (ReLU)            (None, 3, 3, 96)             0         ['tf.math.add_192[0][0]']     \n",
            "                                                                                                  \n",
            " tf.math.multiply_192 (TFOp  (None, 3, 3, 96)             0         ['re_lu_232[0][0]']           \n",
            " Lambda)                                                                                          \n",
            "                                                                                                  \n",
            " multiply_128 (Multiply)     (None, 3, 3, 96)             0         ['expanded_conv_3/depthwise/Ba\n",
            "                                                                    tchNorm[0][0]',               \n",
            "                                                                     'tf.math.multiply_192[0][0]']\n",
            "                                                                                                  \n",
            " expanded_conv_3/squeeze_ex  (None, 1, 1, 96)             0         ['multiply_128[0][0]']        \n",
            " cite/AvgPool (GlobalAverag                                                                       \n",
            " ePooling2D)                                                                                      \n",
            "                                                                                                  \n",
            " expanded_conv_3/squeeze_ex  (None, 1, 1, 24)             2328      ['expanded_conv_3/squeeze_exci\n",
            " cite/Conv (Conv2D)                                                 te/AvgPool[0][0]']            \n",
            "                                                                                                  \n",
            " expanded_conv_3/squeeze_ex  (None, 1, 1, 24)             0         ['expanded_conv_3/squeeze_exci\n",
            " cite/Relu (ReLU)                                                   te/Conv[0][0]']               \n",
            "                                                                                                  \n",
            " expanded_conv_3/squeeze_ex  (None, 1, 1, 96)             2400      ['expanded_conv_3/squeeze_exci\n",
            " cite/Conv_1 (Conv2D)                                               te/Relu[0][0]']               \n",
            "                                                                                                  \n",
            " tf.math.add_193 (TFOpLambd  (None, 1, 1, 96)             0         ['expanded_conv_3/squeeze_exci\n",
            " a)                                                                 te/Conv_1[0][0]']             \n",
            "                                                                                                  \n",
            " re_lu_233 (ReLU)            (None, 1, 1, 96)             0         ['tf.math.add_193[0][0]']     \n",
            "                                                                                                  \n",
            " tf.math.multiply_193 (TFOp  (None, 1, 1, 96)             0         ['re_lu_233[0][0]']           \n",
            " Lambda)                                                                                          \n",
            "                                                                                                  \n",
            " expanded_conv_3/squeeze_ex  (None, 3, 3, 96)             0         ['multiply_128[0][0]',        \n",
            " cite/Mul (Multiply)                                                 'tf.math.multiply_193[0][0]']\n",
            "                                                                                                  \n",
            " expanded_conv_3/project (C  (None, 3, 3, 40)             3840      ['expanded_conv_3/squeeze_exci\n",
            " onv2D)                                                             te/Mul[0][0]']                \n",
            "                                                                                                  \n",
            " expanded_conv_3/project/Ba  (None, 3, 3, 40)             160       ['expanded_conv_3/project[0][0\n",
            " tchNorm (BatchNormalizatio                                         ]']                           \n",
            " n)                                                                                               \n",
            "                                                                                                  \n",
            " expanded_conv_4/expand (Co  (None, 3, 3, 240)            9600      ['expanded_conv_3/project/Batc\n",
            " nv2D)                                                              hNorm[0][0]']                 \n",
            "                                                                                                  \n",
            " expanded_conv_4/expand/Bat  (None, 3, 3, 240)            960       ['expanded_conv_4/expand[0][0]\n",
            " chNorm (BatchNormalization                                         ']                            \n",
            " )                                                                                                \n",
            "                                                                                                  \n",
            " tf.math.add_194 (TFOpLambd  (None, 3, 3, 240)            0         ['expanded_conv_4/expand/Batch\n",
            " a)                                                                 Norm[0][0]']                  \n",
            "                                                                                                  \n",
            " re_lu_234 (ReLU)            (None, 3, 3, 240)            0         ['tf.math.add_194[0][0]']     \n",
            "                                                                                                  \n",
            " tf.math.multiply_194 (TFOp  (None, 3, 3, 240)            0         ['re_lu_234[0][0]']           \n",
            " Lambda)                                                                                          \n",
            "                                                                                                  \n",
            " multiply_129 (Multiply)     (None, 3, 3, 240)            0         ['expanded_conv_4/expand/Batch\n",
            "                                                                    Norm[0][0]',                  \n",
            "                                                                     'tf.math.multiply_194[0][0]']\n",
            "                                                                                                  \n",
            " expanded_conv_4/depthwise   (None, 3, 3, 240)            6000      ['multiply_129[0][0]']        \n",
            " (DepthwiseConv2D)                                                                                \n",
            "                                                                                                  \n",
            " expanded_conv_4/depthwise/  (None, 3, 3, 240)            960       ['expanded_conv_4/depthwise[0]\n",
            " BatchNorm (BatchNormalizat                                         [0]']                         \n",
            " ion)                                                                                             \n",
            "                                                                                                  \n",
            " tf.math.add_195 (TFOpLambd  (None, 3, 3, 240)            0         ['expanded_conv_4/depthwise/Ba\n",
            " a)                                                                 tchNorm[0][0]']               \n",
            "                                                                                                  \n",
            " re_lu_235 (ReLU)            (None, 3, 3, 240)            0         ['tf.math.add_195[0][0]']     \n",
            "                                                                                                  \n",
            " tf.math.multiply_195 (TFOp  (None, 3, 3, 240)            0         ['re_lu_235[0][0]']           \n",
            " Lambda)                                                                                          \n",
            "                                                                                                  \n",
            " multiply_130 (Multiply)     (None, 3, 3, 240)            0         ['expanded_conv_4/depthwise/Ba\n",
            "                                                                    tchNorm[0][0]',               \n",
            "                                                                     'tf.math.multiply_195[0][0]']\n",
            "                                                                                                  \n",
            " expanded_conv_4/squeeze_ex  (None, 1, 1, 240)            0         ['multiply_130[0][0]']        \n",
            " cite/AvgPool (GlobalAverag                                                                       \n",
            " ePooling2D)                                                                                      \n",
            "                                                                                                  \n",
            " expanded_conv_4/squeeze_ex  (None, 1, 1, 64)             15424     ['expanded_conv_4/squeeze_exci\n",
            " cite/Conv (Conv2D)                                                 te/AvgPool[0][0]']            \n",
            "                                                                                                  \n",
            " expanded_conv_4/squeeze_ex  (None, 1, 1, 64)             0         ['expanded_conv_4/squeeze_exci\n",
            " cite/Relu (ReLU)                                                   te/Conv[0][0]']               \n",
            "                                                                                                  \n",
            " expanded_conv_4/squeeze_ex  (None, 1, 1, 240)            15600     ['expanded_conv_4/squeeze_exci\n",
            " cite/Conv_1 (Conv2D)                                               te/Relu[0][0]']               \n",
            "                                                                                                  \n",
            " tf.math.add_196 (TFOpLambd  (None, 1, 1, 240)            0         ['expanded_conv_4/squeeze_exci\n",
            " a)                                                                 te/Conv_1[0][0]']             \n",
            "                                                                                                  \n",
            " re_lu_236 (ReLU)            (None, 1, 1, 240)            0         ['tf.math.add_196[0][0]']     \n",
            "                                                                                                  \n",
            " tf.math.multiply_196 (TFOp  (None, 1, 1, 240)            0         ['re_lu_236[0][0]']           \n",
            " Lambda)                                                                                          \n",
            "                                                                                                  \n",
            " expanded_conv_4/squeeze_ex  (None, 3, 3, 240)            0         ['multiply_130[0][0]',        \n",
            " cite/Mul (Multiply)                                                 'tf.math.multiply_196[0][0]']\n",
            "                                                                                                  \n",
            " expanded_conv_4/project (C  (None, 3, 3, 40)             9600      ['expanded_conv_4/squeeze_exci\n",
            " onv2D)                                                             te/Mul[0][0]']                \n",
            "                                                                                                  \n",
            " expanded_conv_4/project/Ba  (None, 3, 3, 40)             160       ['expanded_conv_4/project[0][0\n",
            " tchNorm (BatchNormalizatio                                         ]']                           \n",
            " n)                                                                                               \n",
            "                                                                                                  \n",
            " expanded_conv_4/Add (Add)   (None, 3, 3, 40)             0         ['expanded_conv_3/project/Batc\n",
            "                                                                    hNorm[0][0]',                 \n",
            "                                                                     'expanded_conv_4/project/Batc\n",
            "                                                                    hNorm[0][0]']                 \n",
            "                                                                                                  \n",
            " expanded_conv_5/expand (Co  (None, 3, 3, 240)            9600      ['expanded_conv_4/Add[0][0]'] \n",
            " nv2D)                                                                                            \n",
            "                                                                                                  \n",
            " expanded_conv_5/expand/Bat  (None, 3, 3, 240)            960       ['expanded_conv_5/expand[0][0]\n",
            " chNorm (BatchNormalization                                         ']                            \n",
            " )                                                                                                \n",
            "                                                                                                  \n",
            " tf.math.add_197 (TFOpLambd  (None, 3, 3, 240)            0         ['expanded_conv_5/expand/Batch\n",
            " a)                                                                 Norm[0][0]']                  \n",
            "                                                                                                  \n",
            " re_lu_237 (ReLU)            (None, 3, 3, 240)            0         ['tf.math.add_197[0][0]']     \n",
            "                                                                                                  \n",
            " tf.math.multiply_197 (TFOp  (None, 3, 3, 240)            0         ['re_lu_237[0][0]']           \n",
            " Lambda)                                                                                          \n",
            "                                                                                                  \n",
            " multiply_131 (Multiply)     (None, 3, 3, 240)            0         ['expanded_conv_5/expand/Batch\n",
            "                                                                    Norm[0][0]',                  \n",
            "                                                                     'tf.math.multiply_197[0][0]']\n",
            "                                                                                                  \n",
            " expanded_conv_5/depthwise   (None, 3, 3, 240)            6000      ['multiply_131[0][0]']        \n",
            " (DepthwiseConv2D)                                                                                \n",
            "                                                                                                  \n",
            " expanded_conv_5/depthwise/  (None, 3, 3, 240)            960       ['expanded_conv_5/depthwise[0]\n",
            " BatchNorm (BatchNormalizat                                         [0]']                         \n",
            " ion)                                                                                             \n",
            "                                                                                                  \n",
            " tf.math.add_198 (TFOpLambd  (None, 3, 3, 240)            0         ['expanded_conv_5/depthwise/Ba\n",
            " a)                                                                 tchNorm[0][0]']               \n",
            "                                                                                                  \n",
            " re_lu_238 (ReLU)            (None, 3, 3, 240)            0         ['tf.math.add_198[0][0]']     \n",
            "                                                                                                  \n",
            " tf.math.multiply_198 (TFOp  (None, 3, 3, 240)            0         ['re_lu_238[0][0]']           \n",
            " Lambda)                                                                                          \n",
            "                                                                                                  \n",
            " multiply_132 (Multiply)     (None, 3, 3, 240)            0         ['expanded_conv_5/depthwise/Ba\n",
            "                                                                    tchNorm[0][0]',               \n",
            "                                                                     'tf.math.multiply_198[0][0]']\n",
            "                                                                                                  \n",
            " expanded_conv_5/squeeze_ex  (None, 1, 1, 240)            0         ['multiply_132[0][0]']        \n",
            " cite/AvgPool (GlobalAverag                                                                       \n",
            " ePooling2D)                                                                                      \n",
            "                                                                                                  \n",
            " expanded_conv_5/squeeze_ex  (None, 1, 1, 64)             15424     ['expanded_conv_5/squeeze_exci\n",
            " cite/Conv (Conv2D)                                                 te/AvgPool[0][0]']            \n",
            "                                                                                                  \n",
            " expanded_conv_5/squeeze_ex  (None, 1, 1, 64)             0         ['expanded_conv_5/squeeze_exci\n",
            " cite/Relu (ReLU)                                                   te/Conv[0][0]']               \n",
            "                                                                                                  \n",
            " expanded_conv_5/squeeze_ex  (None, 1, 1, 240)            15600     ['expanded_conv_5/squeeze_exci\n",
            " cite/Conv_1 (Conv2D)                                               te/Relu[0][0]']               \n",
            "                                                                                                  \n",
            " tf.math.add_199 (TFOpLambd  (None, 1, 1, 240)            0         ['expanded_conv_5/squeeze_exci\n",
            " a)                                                                 te/Conv_1[0][0]']             \n",
            "                                                                                                  \n",
            " re_lu_239 (ReLU)            (None, 1, 1, 240)            0         ['tf.math.add_199[0][0]']     \n",
            "                                                                                                  \n",
            " tf.math.multiply_199 (TFOp  (None, 1, 1, 240)            0         ['re_lu_239[0][0]']           \n",
            " Lambda)                                                                                          \n",
            "                                                                                                  \n",
            " expanded_conv_5/squeeze_ex  (None, 3, 3, 240)            0         ['multiply_132[0][0]',        \n",
            " cite/Mul (Multiply)                                                 'tf.math.multiply_199[0][0]']\n",
            "                                                                                                  \n",
            " expanded_conv_5/project (C  (None, 3, 3, 40)             9600      ['expanded_conv_5/squeeze_exci\n",
            " onv2D)                                                             te/Mul[0][0]']                \n",
            "                                                                                                  \n",
            " expanded_conv_5/project/Ba  (None, 3, 3, 40)             160       ['expanded_conv_5/project[0][0\n",
            " tchNorm (BatchNormalizatio                                         ]']                           \n",
            " n)                                                                                               \n",
            "                                                                                                  \n",
            " expanded_conv_5/Add (Add)   (None, 3, 3, 40)             0         ['expanded_conv_4/Add[0][0]', \n",
            "                                                                     'expanded_conv_5/project/Batc\n",
            "                                                                    hNorm[0][0]']                 \n",
            "                                                                                                  \n",
            " expanded_conv_6/expand (Co  (None, 3, 3, 120)            4800      ['expanded_conv_5/Add[0][0]'] \n",
            " nv2D)                                                                                            \n",
            "                                                                                                  \n",
            " expanded_conv_6/expand/Bat  (None, 3, 3, 120)            480       ['expanded_conv_6/expand[0][0]\n",
            " chNorm (BatchNormalization                                         ']                            \n",
            " )                                                                                                \n",
            "                                                                                                  \n",
            " tf.math.add_200 (TFOpLambd  (None, 3, 3, 120)            0         ['expanded_conv_6/expand/Batch\n",
            " a)                                                                 Norm[0][0]']                  \n",
            "                                                                                                  \n",
            " re_lu_240 (ReLU)            (None, 3, 3, 120)            0         ['tf.math.add_200[0][0]']     \n",
            "                                                                                                  \n",
            " tf.math.multiply_200 (TFOp  (None, 3, 3, 120)            0         ['re_lu_240[0][0]']           \n",
            " Lambda)                                                                                          \n",
            "                                                                                                  \n",
            " multiply_133 (Multiply)     (None, 3, 3, 120)            0         ['expanded_conv_6/expand/Batch\n",
            "                                                                    Norm[0][0]',                  \n",
            "                                                                     'tf.math.multiply_200[0][0]']\n",
            "                                                                                                  \n",
            " expanded_conv_6/depthwise   (None, 3, 3, 120)            3000      ['multiply_133[0][0]']        \n",
            " (DepthwiseConv2D)                                                                                \n",
            "                                                                                                  \n",
            " expanded_conv_6/depthwise/  (None, 3, 3, 120)            480       ['expanded_conv_6/depthwise[0]\n",
            " BatchNorm (BatchNormalizat                                         [0]']                         \n",
            " ion)                                                                                             \n",
            "                                                                                                  \n",
            " tf.math.add_201 (TFOpLambd  (None, 3, 3, 120)            0         ['expanded_conv_6/depthwise/Ba\n",
            " a)                                                                 tchNorm[0][0]']               \n",
            "                                                                                                  \n",
            " re_lu_241 (ReLU)            (None, 3, 3, 120)            0         ['tf.math.add_201[0][0]']     \n",
            "                                                                                                  \n",
            " tf.math.multiply_201 (TFOp  (None, 3, 3, 120)            0         ['re_lu_241[0][0]']           \n",
            " Lambda)                                                                                          \n",
            "                                                                                                  \n",
            " multiply_134 (Multiply)     (None, 3, 3, 120)            0         ['expanded_conv_6/depthwise/Ba\n",
            "                                                                    tchNorm[0][0]',               \n",
            "                                                                     'tf.math.multiply_201[0][0]']\n",
            "                                                                                                  \n",
            " expanded_conv_6/squeeze_ex  (None, 1, 1, 120)            0         ['multiply_134[0][0]']        \n",
            " cite/AvgPool (GlobalAverag                                                                       \n",
            " ePooling2D)                                                                                      \n",
            "                                                                                                  \n",
            " expanded_conv_6/squeeze_ex  (None, 1, 1, 32)             3872      ['expanded_conv_6/squeeze_exci\n",
            " cite/Conv (Conv2D)                                                 te/AvgPool[0][0]']            \n",
            "                                                                                                  \n",
            " expanded_conv_6/squeeze_ex  (None, 1, 1, 32)             0         ['expanded_conv_6/squeeze_exci\n",
            " cite/Relu (ReLU)                                                   te/Conv[0][0]']               \n",
            "                                                                                                  \n",
            " expanded_conv_6/squeeze_ex  (None, 1, 1, 120)            3960      ['expanded_conv_6/squeeze_exci\n",
            " cite/Conv_1 (Conv2D)                                               te/Relu[0][0]']               \n",
            "                                                                                                  \n",
            " tf.math.add_202 (TFOpLambd  (None, 1, 1, 120)            0         ['expanded_conv_6/squeeze_exci\n",
            " a)                                                                 te/Conv_1[0][0]']             \n",
            "                                                                                                  \n",
            " re_lu_242 (ReLU)            (None, 1, 1, 120)            0         ['tf.math.add_202[0][0]']     \n",
            "                                                                                                  \n",
            " tf.math.multiply_202 (TFOp  (None, 1, 1, 120)            0         ['re_lu_242[0][0]']           \n",
            " Lambda)                                                                                          \n",
            "                                                                                                  \n",
            " expanded_conv_6/squeeze_ex  (None, 3, 3, 120)            0         ['multiply_134[0][0]',        \n",
            " cite/Mul (Multiply)                                                 'tf.math.multiply_202[0][0]']\n",
            "                                                                                                  \n",
            " expanded_conv_6/project (C  (None, 3, 3, 48)             5760      ['expanded_conv_6/squeeze_exci\n",
            " onv2D)                                                             te/Mul[0][0]']                \n",
            "                                                                                                  \n",
            " expanded_conv_6/project/Ba  (None, 3, 3, 48)             192       ['expanded_conv_6/project[0][0\n",
            " tchNorm (BatchNormalizatio                                         ]']                           \n",
            " n)                                                                                               \n",
            "                                                                                                  \n",
            " expanded_conv_7/expand (Co  (None, 3, 3, 144)            6912      ['expanded_conv_6/project/Batc\n",
            " nv2D)                                                              hNorm[0][0]']                 \n",
            "                                                                                                  \n",
            " expanded_conv_7/expand/Bat  (None, 3, 3, 144)            576       ['expanded_conv_7/expand[0][0]\n",
            " chNorm (BatchNormalization                                         ']                            \n",
            " )                                                                                                \n",
            "                                                                                                  \n",
            " tf.math.add_203 (TFOpLambd  (None, 3, 3, 144)            0         ['expanded_conv_7/expand/Batch\n",
            " a)                                                                 Norm[0][0]']                  \n",
            "                                                                                                  \n",
            " re_lu_243 (ReLU)            (None, 3, 3, 144)            0         ['tf.math.add_203[0][0]']     \n",
            "                                                                                                  \n",
            " tf.math.multiply_203 (TFOp  (None, 3, 3, 144)            0         ['re_lu_243[0][0]']           \n",
            " Lambda)                                                                                          \n",
            "                                                                                                  \n",
            " multiply_135 (Multiply)     (None, 3, 3, 144)            0         ['expanded_conv_7/expand/Batch\n",
            "                                                                    Norm[0][0]',                  \n",
            "                                                                     'tf.math.multiply_203[0][0]']\n",
            "                                                                                                  \n",
            " expanded_conv_7/depthwise   (None, 3, 3, 144)            3600      ['multiply_135[0][0]']        \n",
            " (DepthwiseConv2D)                                                                                \n",
            "                                                                                                  \n",
            " expanded_conv_7/depthwise/  (None, 3, 3, 144)            576       ['expanded_conv_7/depthwise[0]\n",
            " BatchNorm (BatchNormalizat                                         [0]']                         \n",
            " ion)                                                                                             \n",
            "                                                                                                  \n",
            " tf.math.add_204 (TFOpLambd  (None, 3, 3, 144)            0         ['expanded_conv_7/depthwise/Ba\n",
            " a)                                                                 tchNorm[0][0]']               \n",
            "                                                                                                  \n",
            " re_lu_244 (ReLU)            (None, 3, 3, 144)            0         ['tf.math.add_204[0][0]']     \n",
            "                                                                                                  \n",
            " tf.math.multiply_204 (TFOp  (None, 3, 3, 144)            0         ['re_lu_244[0][0]']           \n",
            " Lambda)                                                                                          \n",
            "                                                                                                  \n",
            " multiply_136 (Multiply)     (None, 3, 3, 144)            0         ['expanded_conv_7/depthwise/Ba\n",
            "                                                                    tchNorm[0][0]',               \n",
            "                                                                     'tf.math.multiply_204[0][0]']\n",
            "                                                                                                  \n",
            " expanded_conv_7/squeeze_ex  (None, 1, 1, 144)            0         ['multiply_136[0][0]']        \n",
            " cite/AvgPool (GlobalAverag                                                                       \n",
            " ePooling2D)                                                                                      \n",
            "                                                                                                  \n",
            " expanded_conv_7/squeeze_ex  (None, 1, 1, 40)             5800      ['expanded_conv_7/squeeze_exci\n",
            " cite/Conv (Conv2D)                                                 te/AvgPool[0][0]']            \n",
            "                                                                                                  \n",
            " expanded_conv_7/squeeze_ex  (None, 1, 1, 40)             0         ['expanded_conv_7/squeeze_exci\n",
            " cite/Relu (ReLU)                                                   te/Conv[0][0]']               \n",
            "                                                                                                  \n",
            " expanded_conv_7/squeeze_ex  (None, 1, 1, 144)            5904      ['expanded_conv_7/squeeze_exci\n",
            " cite/Conv_1 (Conv2D)                                               te/Relu[0][0]']               \n",
            "                                                                                                  \n",
            " tf.math.add_205 (TFOpLambd  (None, 1, 1, 144)            0         ['expanded_conv_7/squeeze_exci\n",
            " a)                                                                 te/Conv_1[0][0]']             \n",
            "                                                                                                  \n",
            " re_lu_245 (ReLU)            (None, 1, 1, 144)            0         ['tf.math.add_205[0][0]']     \n",
            "                                                                                                  \n",
            " tf.math.multiply_205 (TFOp  (None, 1, 1, 144)            0         ['re_lu_245[0][0]']           \n",
            " Lambda)                                                                                          \n",
            "                                                                                                  \n",
            " expanded_conv_7/squeeze_ex  (None, 3, 3, 144)            0         ['multiply_136[0][0]',        \n",
            " cite/Mul (Multiply)                                                 'tf.math.multiply_205[0][0]']\n",
            "                                                                                                  \n",
            " expanded_conv_7/project (C  (None, 3, 3, 48)             6912      ['expanded_conv_7/squeeze_exci\n",
            " onv2D)                                                             te/Mul[0][0]']                \n",
            "                                                                                                  \n",
            " expanded_conv_7/project/Ba  (None, 3, 3, 48)             192       ['expanded_conv_7/project[0][0\n",
            " tchNorm (BatchNormalizatio                                         ]']                           \n",
            " n)                                                                                               \n",
            "                                                                                                  \n",
            " expanded_conv_7/Add (Add)   (None, 3, 3, 48)             0         ['expanded_conv_6/project/Batc\n",
            "                                                                    hNorm[0][0]',                 \n",
            "                                                                     'expanded_conv_7/project/Batc\n",
            "                                                                    hNorm[0][0]']                 \n",
            "                                                                                                  \n",
            " expanded_conv_8/expand (Co  (None, 3, 3, 288)            13824     ['expanded_conv_7/Add[0][0]'] \n",
            " nv2D)                                                                                            \n",
            "                                                                                                  \n",
            " expanded_conv_8/expand/Bat  (None, 3, 3, 288)            1152      ['expanded_conv_8/expand[0][0]\n",
            " chNorm (BatchNormalization                                         ']                            \n",
            " )                                                                                                \n",
            "                                                                                                  \n",
            " tf.math.add_206 (TFOpLambd  (None, 3, 3, 288)            0         ['expanded_conv_8/expand/Batch\n",
            " a)                                                                 Norm[0][0]']                  \n",
            "                                                                                                  \n",
            " re_lu_246 (ReLU)            (None, 3, 3, 288)            0         ['tf.math.add_206[0][0]']     \n",
            "                                                                                                  \n",
            " tf.math.multiply_206 (TFOp  (None, 3, 3, 288)            0         ['re_lu_246[0][0]']           \n",
            " Lambda)                                                                                          \n",
            "                                                                                                  \n",
            " multiply_137 (Multiply)     (None, 3, 3, 288)            0         ['expanded_conv_8/expand/Batch\n",
            "                                                                    Norm[0][0]',                  \n",
            "                                                                     'tf.math.multiply_206[0][0]']\n",
            "                                                                                                  \n",
            " expanded_conv_8/depthwise/  (None, 7, 7, 288)            0         ['multiply_137[0][0]']        \n",
            " pad (ZeroPadding2D)                                                                              \n",
            "                                                                                                  \n",
            " expanded_conv_8/depthwise   (None, 2, 2, 288)            7200      ['expanded_conv_8/depthwise/pa\n",
            " (DepthwiseConv2D)                                                  d[0][0]']                     \n",
            "                                                                                                  \n",
            " expanded_conv_8/depthwise/  (None, 2, 2, 288)            1152      ['expanded_conv_8/depthwise[0]\n",
            " BatchNorm (BatchNormalizat                                         [0]']                         \n",
            " ion)                                                                                             \n",
            "                                                                                                  \n",
            " tf.math.add_207 (TFOpLambd  (None, 2, 2, 288)            0         ['expanded_conv_8/depthwise/Ba\n",
            " a)                                                                 tchNorm[0][0]']               \n",
            "                                                                                                  \n",
            " re_lu_247 (ReLU)            (None, 2, 2, 288)            0         ['tf.math.add_207[0][0]']     \n",
            "                                                                                                  \n",
            " tf.math.multiply_207 (TFOp  (None, 2, 2, 288)            0         ['re_lu_247[0][0]']           \n",
            " Lambda)                                                                                          \n",
            "                                                                                                  \n",
            " multiply_138 (Multiply)     (None, 2, 2, 288)            0         ['expanded_conv_8/depthwise/Ba\n",
            "                                                                    tchNorm[0][0]',               \n",
            "                                                                     'tf.math.multiply_207[0][0]']\n",
            "                                                                                                  \n",
            " expanded_conv_8/squeeze_ex  (None, 1, 1, 288)            0         ['multiply_138[0][0]']        \n",
            " cite/AvgPool (GlobalAverag                                                                       \n",
            " ePooling2D)                                                                                      \n",
            "                                                                                                  \n",
            " expanded_conv_8/squeeze_ex  (None, 1, 1, 72)             20808     ['expanded_conv_8/squeeze_exci\n",
            " cite/Conv (Conv2D)                                                 te/AvgPool[0][0]']            \n",
            "                                                                                                  \n",
            " expanded_conv_8/squeeze_ex  (None, 1, 1, 72)             0         ['expanded_conv_8/squeeze_exci\n",
            " cite/Relu (ReLU)                                                   te/Conv[0][0]']               \n",
            "                                                                                                  \n",
            " expanded_conv_8/squeeze_ex  (None, 1, 1, 288)            21024     ['expanded_conv_8/squeeze_exci\n",
            " cite/Conv_1 (Conv2D)                                               te/Relu[0][0]']               \n",
            "                                                                                                  \n",
            " tf.math.add_208 (TFOpLambd  (None, 1, 1, 288)            0         ['expanded_conv_8/squeeze_exci\n",
            " a)                                                                 te/Conv_1[0][0]']             \n",
            "                                                                                                  \n",
            " re_lu_248 (ReLU)            (None, 1, 1, 288)            0         ['tf.math.add_208[0][0]']     \n",
            "                                                                                                  \n",
            " tf.math.multiply_208 (TFOp  (None, 1, 1, 288)            0         ['re_lu_248[0][0]']           \n",
            " Lambda)                                                                                          \n",
            "                                                                                                  \n",
            " expanded_conv_8/squeeze_ex  (None, 2, 2, 288)            0         ['multiply_138[0][0]',        \n",
            " cite/Mul (Multiply)                                                 'tf.math.multiply_208[0][0]']\n",
            "                                                                                                  \n",
            " expanded_conv_8/project (C  (None, 2, 2, 96)             27648     ['expanded_conv_8/squeeze_exci\n",
            " onv2D)                                                             te/Mul[0][0]']                \n",
            "                                                                                                  \n",
            " expanded_conv_8/project/Ba  (None, 2, 2, 96)             384       ['expanded_conv_8/project[0][0\n",
            " tchNorm (BatchNormalizatio                                         ]']                           \n",
            " n)                                                                                               \n",
            "                                                                                                  \n",
            " expanded_conv_9/expand (Co  (None, 2, 2, 576)            55296     ['expanded_conv_8/project/Batc\n",
            " nv2D)                                                              hNorm[0][0]']                 \n",
            "                                                                                                  \n",
            " expanded_conv_9/expand/Bat  (None, 2, 2, 576)            2304      ['expanded_conv_9/expand[0][0]\n",
            " chNorm (BatchNormalization                                         ']                            \n",
            " )                                                                                                \n",
            "                                                                                                  \n",
            " tf.math.add_209 (TFOpLambd  (None, 2, 2, 576)            0         ['expanded_conv_9/expand/Batch\n",
            " a)                                                                 Norm[0][0]']                  \n",
            "                                                                                                  \n",
            " re_lu_249 (ReLU)            (None, 2, 2, 576)            0         ['tf.math.add_209[0][0]']     \n",
            "                                                                                                  \n",
            " tf.math.multiply_209 (TFOp  (None, 2, 2, 576)            0         ['re_lu_249[0][0]']           \n",
            " Lambda)                                                                                          \n",
            "                                                                                                  \n",
            " multiply_139 (Multiply)     (None, 2, 2, 576)            0         ['expanded_conv_9/expand/Batch\n",
            "                                                                    Norm[0][0]',                  \n",
            "                                                                     'tf.math.multiply_209[0][0]']\n",
            "                                                                                                  \n",
            " expanded_conv_9/depthwise   (None, 2, 2, 576)            14400     ['multiply_139[0][0]']        \n",
            " (DepthwiseConv2D)                                                                                \n",
            "                                                                                                  \n",
            " expanded_conv_9/depthwise/  (None, 2, 2, 576)            2304      ['expanded_conv_9/depthwise[0]\n",
            " BatchNorm (BatchNormalizat                                         [0]']                         \n",
            " ion)                                                                                             \n",
            "                                                                                                  \n",
            " tf.math.add_210 (TFOpLambd  (None, 2, 2, 576)            0         ['expanded_conv_9/depthwise/Ba\n",
            " a)                                                                 tchNorm[0][0]']               \n",
            "                                                                                                  \n",
            " re_lu_250 (ReLU)            (None, 2, 2, 576)            0         ['tf.math.add_210[0][0]']     \n",
            "                                                                                                  \n",
            " tf.math.multiply_210 (TFOp  (None, 2, 2, 576)            0         ['re_lu_250[0][0]']           \n",
            " Lambda)                                                                                          \n",
            "                                                                                                  \n",
            " multiply_140 (Multiply)     (None, 2, 2, 576)            0         ['expanded_conv_9/depthwise/Ba\n",
            "                                                                    tchNorm[0][0]',               \n",
            "                                                                     'tf.math.multiply_210[0][0]']\n",
            "                                                                                                  \n",
            " expanded_conv_9/squeeze_ex  (None, 1, 1, 576)            0         ['multiply_140[0][0]']        \n",
            " cite/AvgPool (GlobalAverag                                                                       \n",
            " ePooling2D)                                                                                      \n",
            "                                                                                                  \n",
            " expanded_conv_9/squeeze_ex  (None, 1, 1, 144)            83088     ['expanded_conv_9/squeeze_exci\n",
            " cite/Conv (Conv2D)                                                 te/AvgPool[0][0]']            \n",
            "                                                                                                  \n",
            " expanded_conv_9/squeeze_ex  (None, 1, 1, 144)            0         ['expanded_conv_9/squeeze_exci\n",
            " cite/Relu (ReLU)                                                   te/Conv[0][0]']               \n",
            "                                                                                                  \n",
            " expanded_conv_9/squeeze_ex  (None, 1, 1, 576)            83520     ['expanded_conv_9/squeeze_exci\n",
            " cite/Conv_1 (Conv2D)                                               te/Relu[0][0]']               \n",
            "                                                                                                  \n",
            " tf.math.add_211 (TFOpLambd  (None, 1, 1, 576)            0         ['expanded_conv_9/squeeze_exci\n",
            " a)                                                                 te/Conv_1[0][0]']             \n",
            "                                                                                                  \n",
            " re_lu_251 (ReLU)            (None, 1, 1, 576)            0         ['tf.math.add_211[0][0]']     \n",
            "                                                                                                  \n",
            " tf.math.multiply_211 (TFOp  (None, 1, 1, 576)            0         ['re_lu_251[0][0]']           \n",
            " Lambda)                                                                                          \n",
            "                                                                                                  \n",
            " expanded_conv_9/squeeze_ex  (None, 2, 2, 576)            0         ['multiply_140[0][0]',        \n",
            " cite/Mul (Multiply)                                                 'tf.math.multiply_211[0][0]']\n",
            "                                                                                                  \n",
            " expanded_conv_9/project (C  (None, 2, 2, 96)             55296     ['expanded_conv_9/squeeze_exci\n",
            " onv2D)                                                             te/Mul[0][0]']                \n",
            "                                                                                                  \n",
            " expanded_conv_9/project/Ba  (None, 2, 2, 96)             384       ['expanded_conv_9/project[0][0\n",
            " tchNorm (BatchNormalizatio                                         ]']                           \n",
            " n)                                                                                               \n",
            "                                                                                                  \n",
            " expanded_conv_9/Add (Add)   (None, 2, 2, 96)             0         ['expanded_conv_8/project/Batc\n",
            "                                                                    hNorm[0][0]',                 \n",
            "                                                                     'expanded_conv_9/project/Batc\n",
            "                                                                    hNorm[0][0]']                 \n",
            "                                                                                                  \n",
            " expanded_conv_10/expand (C  (None, 2, 2, 576)            55296     ['expanded_conv_9/Add[0][0]'] \n",
            " onv2D)                                                                                           \n",
            "                                                                                                  \n",
            " expanded_conv_10/expand/Ba  (None, 2, 2, 576)            2304      ['expanded_conv_10/expand[0][0\n",
            " tchNorm (BatchNormalizatio                                         ]']                           \n",
            " n)                                                                                               \n",
            "                                                                                                  \n",
            " tf.math.add_212 (TFOpLambd  (None, 2, 2, 576)            0         ['expanded_conv_10/expand/Batc\n",
            " a)                                                                 hNorm[0][0]']                 \n",
            "                                                                                                  \n",
            " re_lu_252 (ReLU)            (None, 2, 2, 576)            0         ['tf.math.add_212[0][0]']     \n",
            "                                                                                                  \n",
            " tf.math.multiply_212 (TFOp  (None, 2, 2, 576)            0         ['re_lu_252[0][0]']           \n",
            " Lambda)                                                                                          \n",
            "                                                                                                  \n",
            " multiply_141 (Multiply)     (None, 2, 2, 576)            0         ['expanded_conv_10/expand/Batc\n",
            "                                                                    hNorm[0][0]',                 \n",
            "                                                                     'tf.math.multiply_212[0][0]']\n",
            "                                                                                                  \n",
            " expanded_conv_10/depthwise  (None, 2, 2, 576)            14400     ['multiply_141[0][0]']        \n",
            "  (DepthwiseConv2D)                                                                               \n",
            "                                                                                                  \n",
            " expanded_conv_10/depthwise  (None, 2, 2, 576)            2304      ['expanded_conv_10/depthwise[0\n",
            " /BatchNorm (BatchNormaliza                                         ][0]']                        \n",
            " tion)                                                                                            \n",
            "                                                                                                  \n",
            " tf.math.add_213 (TFOpLambd  (None, 2, 2, 576)            0         ['expanded_conv_10/depthwise/B\n",
            " a)                                                                 atchNorm[0][0]']              \n",
            "                                                                                                  \n",
            " re_lu_253 (ReLU)            (None, 2, 2, 576)            0         ['tf.math.add_213[0][0]']     \n",
            "                                                                                                  \n",
            " tf.math.multiply_213 (TFOp  (None, 2, 2, 576)            0         ['re_lu_253[0][0]']           \n",
            " Lambda)                                                                                          \n",
            "                                                                                                  \n",
            " multiply_142 (Multiply)     (None, 2, 2, 576)            0         ['expanded_conv_10/depthwise/B\n",
            "                                                                    atchNorm[0][0]',              \n",
            "                                                                     'tf.math.multiply_213[0][0]']\n",
            "                                                                                                  \n",
            " expanded_conv_10/squeeze_e  (None, 1, 1, 576)            0         ['multiply_142[0][0]']        \n",
            " xcite/AvgPool (GlobalAvera                                                                       \n",
            " gePooling2D)                                                                                     \n",
            "                                                                                                  \n",
            " expanded_conv_10/squeeze_e  (None, 1, 1, 144)            83088     ['expanded_conv_10/squeeze_exc\n",
            " xcite/Conv (Conv2D)                                                ite/AvgPool[0][0]']           \n",
            "                                                                                                  \n",
            " expanded_conv_10/squeeze_e  (None, 1, 1, 144)            0         ['expanded_conv_10/squeeze_exc\n",
            " xcite/Relu (ReLU)                                                  ite/Conv[0][0]']              \n",
            "                                                                                                  \n",
            " expanded_conv_10/squeeze_e  (None, 1, 1, 576)            83520     ['expanded_conv_10/squeeze_exc\n",
            " xcite/Conv_1 (Conv2D)                                              ite/Relu[0][0]']              \n",
            "                                                                                                  \n",
            " tf.math.add_214 (TFOpLambd  (None, 1, 1, 576)            0         ['expanded_conv_10/squeeze_exc\n",
            " a)                                                                 ite/Conv_1[0][0]']            \n",
            "                                                                                                  \n",
            " re_lu_254 (ReLU)            (None, 1, 1, 576)            0         ['tf.math.add_214[0][0]']     \n",
            "                                                                                                  \n",
            " tf.math.multiply_214 (TFOp  (None, 1, 1, 576)            0         ['re_lu_254[0][0]']           \n",
            " Lambda)                                                                                          \n",
            "                                                                                                  \n",
            " expanded_conv_10/squeeze_e  (None, 2, 2, 576)            0         ['multiply_142[0][0]',        \n",
            " xcite/Mul (Multiply)                                                'tf.math.multiply_214[0][0]']\n",
            "                                                                                                  \n",
            " expanded_conv_10/project (  (None, 2, 2, 96)             55296     ['expanded_conv_10/squeeze_exc\n",
            " Conv2D)                                                            ite/Mul[0][0]']               \n",
            "                                                                                                  \n",
            " expanded_conv_10/project/B  (None, 2, 2, 96)             384       ['expanded_conv_10/project[0][\n",
            " atchNorm (BatchNormalizati                                         0]']                          \n",
            " on)                                                                                              \n",
            "                                                                                                  \n",
            " expanded_conv_10/Add (Add)  (None, 2, 2, 96)             0         ['expanded_conv_9/Add[0][0]', \n",
            "                                                                     'expanded_conv_10/project/Bat\n",
            "                                                                    chNorm[0][0]']                \n",
            "                                                                                                  \n",
            " Conv_1 (Conv2D)             (None, 2, 2, 576)            55296     ['expanded_conv_10/Add[0][0]']\n",
            "                                                                                                  \n",
            " Conv_1/BatchNorm (BatchNor  (None, 2, 2, 576)            2304      ['Conv_1[0][0]']              \n",
            " malization)                                                                                      \n",
            "                                                                                                  \n",
            " tf.math.add_215 (TFOpLambd  (None, 2, 2, 576)            0         ['Conv_1/BatchNorm[0][0]']    \n",
            " a)                                                                                               \n",
            "                                                                                                  \n",
            " re_lu_255 (ReLU)            (None, 2, 2, 576)            0         ['tf.math.add_215[0][0]']     \n",
            "                                                                                                  \n",
            " tf.math.multiply_215 (TFOp  (None, 2, 2, 576)            0         ['re_lu_255[0][0]']           \n",
            " Lambda)                                                                                          \n",
            "                                                                                                  \n",
            " multiply_143 (Multiply)     (None, 2, 2, 576)            0         ['Conv_1/BatchNorm[0][0]',    \n",
            "                                                                     'tf.math.multiply_215[0][0]']\n",
            "                                                                                                  \n",
            "==================================================================================================\n",
            "Total params: 939120 (3.58 MB)\n",
            "Trainable params: 813536 (3.10 MB)\n",
            "Non-trainable params: 125584 (490.56 KB)\n",
            "__________________________________________________________________________________________________\n"
          ]
        },
        {
          "output_type": "stream",
          "name": "stderr",
          "text": [
            "WARNING:absl:`lr` is deprecated in Keras optimizer, please use `learning_rate` or use the legacy optimizer, e.g.,tf.keras.optimizers.legacy.Adam.\n"
          ]
        },
        {
          "output_type": "stream",
          "name": "stdout",
          "text": [
            "Model: \"model_6\"\n",
            "_________________________________________________________________\n",
            " Layer (type)                Output Shape              Param #   \n",
            "=================================================================\n",
            " input_16 (InputLayer)       [(None, 41, 41, 3)]       0         \n",
            "                                                                 \n",
            " MobilenetV3small (Function  (None, 2, 2, 576)         939120    \n",
            " al)                                                             \n",
            "                                                                 \n",
            " global_average_pooling2d_7  (None, 576)               0         \n",
            "  (GlobalAveragePooling2D)                                       \n",
            "                                                                 \n",
            " dropout_6 (Dropout)         (None, 576)               0         \n",
            "                                                                 \n",
            " dense_7 (Dense)             (None, 1)                 577       \n",
            "                                                                 \n",
            "=================================================================\n",
            "Total params: 939697 (3.58 MB)\n",
            "Trainable params: 814113 (3.11 MB)\n",
            "Non-trainable params: 125584 (490.56 KB)\n",
            "_________________________________________________________________\n",
            "47/47 [==============================] - 2s 13ms/step\n",
            "47/47 [==============================] - 2s 10ms/step - loss: 0.7395 - accuracy: 0.4980\n",
            "initial loss: 0.74\n",
            "initial accuracy: 0.50\n",
            "Epoch 1/100\n",
            "563/563 [==============================] - 29s 28ms/step - loss: 0.1188 - accuracy: 0.9537 - val_loss: 0.0550 - val_accuracy: 0.9833\n",
            "Epoch 2/100\n",
            "563/563 [==============================] - 17s 31ms/step - loss: 0.0745 - accuracy: 0.9733 - val_loss: 0.1113 - val_accuracy: 0.9413\n",
            "Epoch 3/100\n",
            "563/563 [==============================] - 16s 29ms/step - loss: 0.0731 - accuracy: 0.9762 - val_loss: 0.0399 - val_accuracy: 0.9893\n",
            "Epoch 4/100\n",
            "563/563 [==============================] - 16s 28ms/step - loss: 0.0529 - accuracy: 0.9809 - val_loss: 0.0373 - val_accuracy: 0.9873\n",
            "Epoch 5/100\n",
            "563/563 [==============================] - 16s 28ms/step - loss: 0.0691 - accuracy: 0.9783 - val_loss: 0.0389 - val_accuracy: 0.9900\n",
            "Epoch 6/100\n",
            "563/563 [==============================] - 18s 31ms/step - loss: 0.0449 - accuracy: 0.9846 - val_loss: 0.0304 - val_accuracy: 0.9907\n",
            "Epoch 7/100\n",
            "563/563 [==============================] - 18s 31ms/step - loss: 0.0404 - accuracy: 0.9866 - val_loss: 0.0275 - val_accuracy: 0.9913\n",
            "Epoch 8/100\n",
            "563/563 [==============================] - 15s 27ms/step - loss: 0.0363 - accuracy: 0.9880 - val_loss: 0.0271 - val_accuracy: 0.9947\n",
            "Epoch 9/100\n",
            "563/563 [==============================] - 17s 30ms/step - loss: 0.0355 - accuracy: 0.9881 - val_loss: 0.0381 - val_accuracy: 0.9907\n",
            "Epoch 10/100\n",
            "563/563 [==============================] - 16s 28ms/step - loss: 0.0807 - accuracy: 0.9775 - val_loss: 0.0457 - val_accuracy: 0.9833\n",
            "Epoch 11/100\n",
            "563/563 [==============================] - 16s 28ms/step - loss: 0.0443 - accuracy: 0.9848 - val_loss: 0.0417 - val_accuracy: 0.9873\n",
            "80/80 [==============================] - 2s 22ms/step - loss: 0.0439 - accuracy: 0.9905\n"
          ]
        },
        {
          "output_type": "display_data",
          "data": {
            "text/plain": [
              "<Figure size 800x800 with 2 Axes>"
            ],
            "image/png": "[encoded data removed]"
          },
          "metadata": {}
        },
        {
          "output_type": "stream",
          "name": "stdout",
          "text": [
            "CNN Model\n"
          ]
        },
        {
          "output_type": "error",
          "ename": "NameError",
          "evalue": "ignored",
          "traceback": [
            "\u001b[0;31m---------------------------------------------------------------------------\u001b[0m",
            "\u001b[0;31mNameError\u001b[0m                                 Traceback (most recent call last)",
            "\u001b[0;32m<ipython-input-26-ef62a6b544db>\u001b[0m in \u001b[0;36m<cell line: 87>\u001b[0;34m()\u001b[0m\n\u001b[1;32m     85\u001b[0m \u001b[0;31m#Confusion matrix of test data classification by transfer learning model\u001b[0m\u001b[0;34m\u001b[0m\u001b[0;34m\u001b[0m\u001b[0m\n\u001b[1;32m     86\u001b[0m \u001b[0mprint\u001b[0m\u001b[0;34m(\u001b[0m\u001b[0;34m\"CNN Model\"\u001b[0m\u001b[0;34m)\u001b[0m\u001b[0;34m\u001b[0m\u001b[0;34m\u001b[0m\u001b[0m\n\u001b[0;32m---> 87\u001b[0;31m \u001b[0mplot_confusion_matrix\u001b[0m\u001b[0;34m(\u001b[0m\u001b[0mcnn\u001b[0m\u001b[0;34m,\u001b[0m\u001b[0mx_test\u001b[0m\u001b[0;34m,\u001b[0m\u001b[0my_test\u001b[0m\u001b[0;34m)\u001b[0m\u001b[0;34m\u001b[0m\u001b[0;34m\u001b[0m\u001b[0m\n\u001b[0m\u001b[1;32m     88\u001b[0m \u001b[0;34m\u001b[0m\u001b[0m\n\u001b[1;32m     89\u001b[0m \u001b[0mprint\u001b[0m\u001b[0;34m(\u001b[0m\u001b[0;34m\"Transfer Learning - MobileNetV2\"\u001b[0m\u001b[0;34m)\u001b[0m\u001b[0;34m\u001b[0m\u001b[0;34m\u001b[0m\u001b[0m\n",
            "\u001b[0;31mNameError\u001b[0m: name 'cnn' is not defined"
          ]
        }
      ]
    },
    {
      "cell_type": "markdown",
      "metadata": {
        "id": "pH9HuZwbXmqR"
      },
      "source": [
        "#Comparing Models"
      ]
    },
    {
      "cell_type": "code",
      "metadata": {
        "execution": {
          "iopub.execute_input": "2020-11-15T01:49:14.955344Z",
          "iopub.status.busy": "2020-11-15T01:49:14.953760Z",
          "iopub.status.idle": "2020-11-15T01:49:15.595571Z",
          "shell.execute_reply": "2020-11-15T01:49:15.594928Z"
        },
        "id": "JCS3y_YybA4Q",
        "papermill": {
          "duration": 1.428658,
          "end_time": "2020-11-15T01:49:15.595711",
          "exception": false,
          "start_time": "2020-11-15T01:49:14.167053",
          "status": "completed"
        },
        "tags": [],
        "outputId": "3a59f45d-781f-43a1-d7fd-b65eb4b67892",
        "colab": {
          "base_uri": "https://localhost:8080/",
          "height": 371
        }
      },
      "source": [
        "#Confusion matrix of test data classification by transfer learning model\n",
        "print(\"CNN Model\")\n",
        "plot_confusion_matrix(cnn,x_test,y_test)"
      ],
      "execution_count": null,
      "outputs": [
        {
          "output_type": "stream",
          "text": [
            "CNN Model\n",
            "[[1286    8]\n",
            " [   1 1236]]\n"
          ],
          "name": "stdout"
        },
        {
          "output_type": "display_data",
          "data": {
            "image/png": "[encoded data removed]",
            "text/plain": [
              "<Figure size 360x360 with 2 Axes>"
            ]
          },
          "metadata": {
            "tags": [],
            "needs_background": "light"
          }
        }
      ]
    },
    {
      "cell_type": "code",
      "metadata": {
        "id": "-nQsRSz0Yphh",
        "outputId": "7911bb2c-b85a-46e3-c306-e88d4b720b81",
        "colab": {
          "base_uri": "https://localhost:8080/",
          "height": 371
        }
      },
      "source": [
        "print(\"Transfer Learning - MobileNetV2\")\n",
        "plot_confusion_matrix(model,x_test,y_test)"
      ],
      "execution_count": null,
      "outputs": [
        {
          "output_type": "stream",
          "text": [
            "Transfer Learning - MobileNetV2\n",
            "[[1271   23]\n",
            " [   4 1233]]\n"
          ],
          "name": "stdout"
        },
        {
          "output_type": "display_data",
          "data": {
            "image/png": "[encoded data removed]",
            "text/plain": [
              "<Figure size 360x360 with 2 Axes>"
            ]
          },
          "metadata": {
            "tags": [],
            "needs_background": "light"
          }
        }
      ]
    },
    {
      "cell_type": "code",
      "source": [
        "print(\"Transfer Learning - MobileNetV3\")\n",
        "plot_confusion_matrix(model,x_test,y_test)"
      ],
      "metadata": {
        "id": "_wpguZpV_cin",
        "outputId": "1bb90339-ca0e-4f18-cc69-50ad5c197320",
        "colab": {
          "base_uri": "https://localhost:8080/",
          "height": 514
        }
      },
      "execution_count": 27,
      "outputs": [
        {
          "output_type": "stream",
          "name": "stdout",
          "text": [
            "Transfer Learning - MobileNetV3\n",
            "80/80 [==============================] - 1s 7ms/step\n",
            "[[1251   23]\n",
            " [   1 1256]]\n"
          ]
        },
        {
          "output_type": "display_data",
          "data": {
            "text/plain": [
              "<Figure size 500x500 with 2 Axes>"
            ],
            "image/png": "[encoded data removed]"
          },
          "metadata": {}
        }
      ]
    },
    {
      "cell_type": "markdown",
      "metadata": {
        "id": "0zIS1vYVq4LP"
      },
      "source": [
        "##Best Model\n"
      ]
    },
    {
      "cell_type": "code",
      "metadata": {
        "id": "U6ZTlmlgp3D3",
        "outputId": "b6059707-0691-47a7-c9af-29bc524bbd63",
        "colab": {
          "base_uri": "https://localhost:8080/"
        }
      },
      "source": [
        "best_model = CNN_model()\n",
        "base_learning_rate = 0.0001\n",
        "#compiling CNN model with Adam as optimizer and Binary Crossentropy as final loss function\n",
        "best_model.compile(optimizer=tf.keras.optimizers.Adam(lr=base_learning_rate),\n",
        "              loss=tf.keras.losses.BinaryCrossentropy(from_logits=True),\n",
        "              metrics=['accuracy'])\n",
        "history = best_model.fit(np.concatenate((new_data,x_val)),np.concatenate((new_lable,y_val)),\n",
        "                    epochs=initial_epochs,\n",
        "                    callbacks = [early_stopping],\n",
        "                    validation_data=(x_test,y_test))"
      ],
      "execution_count": null,
      "outputs": [
        {
          "output_type": "stream",
          "text": [
            "(None, 1)\n",
            "Model: \"functional_5\"\n",
            "_________________________________________________________________\n",
            "Layer (type)                 Output Shape              Param #   \n",
            "=================================================================\n",
            "input_4 (InputLayer)         [(None, 41, 41, 3)]       0         \n",
            "_________________________________________________________________\n",
            "conv2d_14 (Conv2D)           (None, 41, 41, 75)        2100      \n",
            "_________________________________________________________________\n",
            "conv2d_15 (Conv2D)           (None, 41, 41, 150)       551400    \n",
            "_________________________________________________________________\n",
            "batch_normalization_6 (Batch (None, 41, 41, 150)       600       \n",
            "_________________________________________________________________\n",
            "max_pooling2d_5 (MaxPooling2 (None, 21, 21, 150)       0         \n",
            "_________________________________________________________________\n",
            "dropout_3 (Dropout)          (None, 21, 21, 150)       0         \n",
            "_________________________________________________________________\n",
            "conv2d_16 (Conv2D)           (None, 21, 21, 50)        67550     \n",
            "_________________________________________________________________\n",
            "conv2d_17 (Conv2D)           (None, 21, 21, 100)       245100    \n",
            "_________________________________________________________________\n",
            "conv2d_18 (Conv2D)           (None, 21, 21, 150)       135150    \n",
            "_________________________________________________________________\n",
            "batch_normalization_7 (Batch (None, 21, 21, 150)       600       \n",
            "_________________________________________________________________\n",
            "max_pooling2d_6 (MaxPooling2 (None, 11, 11, 150)       0         \n",
            "_________________________________________________________________\n",
            "conv2d_19 (Conv2D)           (None, 11, 11, 50)        67550     \n",
            "_________________________________________________________________\n",
            "conv2d_20 (Conv2D)           (None, 11, 11, 100)       245100    \n",
            "_________________________________________________________________\n",
            "conv2d_21 (Conv2D)           (None, 11, 11, 150)       135150    \n",
            "_________________________________________________________________\n",
            "batch_normalization_8 (Batch (None, 11, 11, 150)       600       \n",
            "_________________________________________________________________\n",
            "max_pooling2d_7 (MaxPooling2 (None, 6, 6, 150)         0         \n",
            "_________________________________________________________________\n",
            "conv2d_22 (Conv2D)           (None, 6, 6, 50)          67550     \n",
            "_________________________________________________________________\n",
            "conv2d_23 (Conv2D)           (None, 6, 6, 100)         245100    \n",
            "_________________________________________________________________\n",
            "conv2d_24 (Conv2D)           (None, 6, 6, 150)         135150    \n",
            "_________________________________________________________________\n",
            "batch_normalization_9 (Batch (None, 6, 6, 150)         600       \n",
            "_________________________________________________________________\n",
            "max_pooling2d_8 (MaxPooling2 (None, 3, 3, 150)         0         \n",
            "_________________________________________________________________\n",
            "conv2d_25 (Conv2D)           (None, 3, 3, 100)         735100    \n",
            "_________________________________________________________________\n",
            "conv2d_26 (Conv2D)           (None, 3, 3, 50)          45050     \n",
            "_________________________________________________________________\n",
            "conv2d_27 (Conv2D)           (None, 3, 3, 25)          11275     \n",
            "_________________________________________________________________\n",
            "batch_normalization_10 (Batc (None, 3, 3, 25)          100       \n",
            "_________________________________________________________________\n",
            "max_pooling2d_9 (MaxPooling2 (None, 2, 2, 25)          0         \n",
            "_________________________________________________________________\n",
            "flatten_1 (Flatten)          (None, 100)               0         \n",
            "_________________________________________________________________\n",
            "dense_3 (Dense)              (None, 256)               25856     \n",
            "_________________________________________________________________\n",
            "batch_normalization_11 (Batc (None, 256)               1024      \n",
            "_________________________________________________________________\n",
            "dropout_4 (Dropout)          (None, 256)               0         \n",
            "_________________________________________________________________\n",
            "dense_4 (Dense)              (None, 1)                 257       \n",
            "=================================================================\n",
            "Total params: 2,717,962\n",
            "Trainable params: 2,716,200\n",
            "Non-trainable params: 1,762\n",
            "_________________________________________________________________\n",
            "Epoch 1/100\n",
            "610/610 [==============================] - 28s 45ms/step - loss: 0.0968 - accuracy: 0.9618 - val_loss: 0.0964 - val_accuracy: 0.9478\n",
            "Epoch 2/100\n",
            "610/610 [==============================] - 27s 44ms/step - loss: 0.0324 - accuracy: 0.9889 - val_loss: 0.0305 - val_accuracy: 0.9921\n",
            "Epoch 3/100\n",
            "610/610 [==============================] - 27s 44ms/step - loss: 0.0239 - accuracy: 0.9917 - val_loss: 0.0190 - val_accuracy: 0.9933\n",
            "Epoch 4/100\n",
            "610/610 [==============================] - 27s 44ms/step - loss: 0.0193 - accuracy: 0.9936 - val_loss: 0.0077 - val_accuracy: 0.9988\n",
            "Epoch 5/100\n",
            "610/610 [==============================] - 27s 44ms/step - loss: 0.0144 - accuracy: 0.9953 - val_loss: 0.0144 - val_accuracy: 0.9964\n",
            "Epoch 6/100\n",
            "610/610 [==============================] - 27s 44ms/step - loss: 0.0134 - accuracy: 0.9954 - val_loss: 0.0373 - val_accuracy: 0.9917\n",
            "Epoch 7/100\n",
            "610/610 [==============================] - 27s 44ms/step - loss: 0.0128 - accuracy: 0.9962 - val_loss: 0.0086 - val_accuracy: 0.9976\n"
          ],
          "name": "stdout"
        }
      ]
    },
    {
      "cell_type": "code",
      "metadata": {
        "id": "sK7X9YmwqTHf",
        "outputId": "eef622a3-0e65-4060-9b52-daa57a4c6063",
        "colab": {
          "base_uri": "https://localhost:8080/"
        }
      },
      "source": [
        "#Test performance of model on test data\n",
        "loss0, accuracy0 = best_model.evaluate(x_test,y_test)"
      ],
      "execution_count": null,
      "outputs": [
        {
          "output_type": "stream",
          "text": [
            "80/80 [==============================] - 1s 12ms/step - loss: 0.0077 - accuracy: 0.9988\n"
          ],
          "name": "stdout"
        }
      ]
    },
    {
      "cell_type": "code",
      "metadata": {
        "id": "UJ2p4dAbqrTZ",
        "outputId": "01ca6eae-d1ed-4c98-d763-ce3e2053fb3e",
        "colab": {
          "base_uri": "https://localhost:8080/",
          "height": 371
        }
      },
      "source": [
        "print(\"Best Model\")\n",
        "plot_confusion_matrix(best_model,x_test,y_test)"
      ],
      "execution_count": null,
      "outputs": [
        {
          "output_type": "stream",
          "text": [
            "Best Model\n",
            "[[1291    3]\n",
            " [   1 1236]]\n"
          ],
          "name": "stdout"
        },
        {
          "output_type": "display_data",
          "data": {
            "image/png": "[encoded data removed]",
            "text/plain": [
              "<Figure size 360x360 with 2 Axes>"
            ]
          },
          "metadata": {
            "tags": [],
            "needs_background": "light"
          }
        }
      ]
    },
    {
      "cell_type": "markdown",
      "metadata": {
        "id": "WE5Oqs0bZCr6"
      },
      "source": [
        "#Making Predictions"
      ]
    },
    {
      "cell_type": "code",
      "metadata": {
        "id": "n0YN3CdnXvIc"
      },
      "source": [
        "def predict(img):\n",
        "  prediction = best_model.predict(img[np.newaxis,:,:,:])\n",
        "  plt.imshow(img.astype(\"uint8\"))\n",
        "  plt.axis(\"off\")\n",
        "  if prediction < 0:\n",
        "    return 0, \"No clot found\"\n",
        "  else:\n",
        "      return 1, \"Clot found\""
      ],
      "execution_count": null,
      "outputs": []
    },
    {
      "cell_type": "code",
      "metadata": {
        "id": "jeKujrpshi1r",
        "outputId": "d5d78e19-2811-4115-d3dd-07e6be1ebd91",
        "colab": {
          "base_uri": "https://localhost:8080/",
          "height": 265
        }
      },
      "source": [
        "predict(x_test[1])"
      ],
      "execution_count": null,
      "outputs": [
        {
          "output_type": "execute_result",
          "data": {
            "text/plain": [
              "(0, 'No clot found')"
            ]
          },
          "metadata": {
            "tags": []
          },
          "execution_count": 46
        },
        {
          "output_type": "display_data",
          "data": {
            "image/png": "[encoded data removed]",
            "text/plain": [
              "<Figure size 432x288 with 1 Axes>"
            ]
          },
          "metadata": {
            "tags": [],
            "needs_background": "light"
          }
        }
      ]
    }
  ]
}